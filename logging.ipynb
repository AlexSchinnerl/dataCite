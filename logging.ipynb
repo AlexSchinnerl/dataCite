{
 "cells": [
  {
   "cell_type": "markdown",
   "metadata": {},
   "source": [
    "ich bin zwar selber anfänger, finds jedenfalls aber cool - v.a. das dictionary mit den funktionen als values. beim logging gäbe es ein build-in modul logging \n",
    "\n",
    "standardmäßig wird auf std-out und ab level WARNING geloggt. ich schreibt das immer in ein file (mit modus \"w\" wird bei jedem programmaufruf das logfile neu erstellt)\n",
    "\n",
    "\n",
    "\n",
    "logging.basicConfig(filename=\"update_users.log\", filemode=\"w\", level=logging.INFO)\n",
    "\n",
    "\n",
    "\n",
    "dann kann man loggen\n",
    "\n",
    "logging.error(f\"User {user_id} not updated: {r_put.text}\") etc\n",
    "\n",
    "\n",
    "\n",
    "dass die funktionen den output, der als parameter mitgegeben wird, verändern, finde ich etwas gewöhnungsbedürftig. ich hab bei so fällen eine generate_field()  funktion, die ein ET.Element()  zurückgibt. ist aber vielleicht geschmackssache?\n",
    "\n",
    "\n",
    "\n",
    "apropos ElementTree. Bernhard hat mich darauf hingewiesen, dass es eine eigene library elementpath gibt. find ich super! hier ist (standardmäßig mit XPath 2.0, offenbar auch 3 verwendbar) ein ElementTree mit dem XPath standard durchsuchbar. Soweit ich weiß, kann man man mit der Standard Library keine kombinierte Abfrage mit Attributen machen. root.find(\".//datafield[@tag='974' and @ind1='0']\") bringt ein SyntaxError: invalid predicate "
   ]
  },
  {
   "cell_type": "code",
   "execution_count": 8,
   "metadata": {},
   "outputs": [],
   "source": [
    "import logging"
   ]
  },
  {
   "cell_type": "code",
   "execution_count": 9,
   "metadata": {},
   "outputs": [],
   "source": [
    "# https://www.youtube.com/watch?v=urrfJgHwIJA&ab_channel=TechWithTim"
   ]
  },
  {
   "cell_type": "markdown",
   "metadata": {},
   "source": [
    "5 Levels of logging:\n",
    "1. debug\n",
    "2. info\n",
    "3. warning\n",
    "4. error\n",
    "5. critical"
   ]
  },
  {
   "cell_type": "code",
   "execution_count": 10,
   "metadata": {},
   "outputs": [],
   "source": [
    "# logging.warning(\"warning\")\n",
    "# logging.info(\"info - not printed\")"
   ]
  },
  {
   "cell_type": "code",
   "execution_count": 11,
   "metadata": {},
   "outputs": [],
   "source": [
    "# logging.basicConfig(level=logging.INFO) # log ab Info (default= warning)"
   ]
  },
  {
   "cell_type": "code",
   "execution_count": 12,
   "metadata": {},
   "outputs": [],
   "source": [
    "logging.basicConfig(level=logging.INFO, filename=\"logfile.log\", filemode=\"w\", format=\"%(asctime)s - %(levelname)s - %(message)s\")"
   ]
  },
  {
   "cell_type": "markdown",
   "metadata": {},
   "source": [
    "loggingproperties:\n",
    "https://docs.python.org/3/library/logging.html#logrecord-attributes"
   ]
  },
  {
   "cell_type": "code",
   "execution_count": 13,
   "metadata": {},
   "outputs": [
    {
     "data": {
      "text/plain": [
       "'h:\\\\programming\\\\dataCite'"
      ]
     },
     "execution_count": 13,
     "metadata": {},
     "output_type": "execute_result"
    }
   ],
   "source": [
    "import os\n",
    "os.getcwd()"
   ]
  },
  {
   "cell_type": "code",
   "execution_count": 14,
   "metadata": {},
   "outputs": [],
   "source": [
    "logging.warning(\"warning\")"
   ]
  },
  {
   "cell_type": "code",
   "execution_count": 15,
   "metadata": {},
   "outputs": [],
   "source": [
    "# log value of variable\n",
    "x = 2\n",
    "logging.info(f\"the valuie of x is {x}\")"
   ]
  },
  {
   "cell_type": "code",
   "execution_count": 16,
   "metadata": {},
   "outputs": [],
   "source": [
    "# logging exceptions\n",
    "try:\n",
    "    1/0\n",
    "except ZeroDivisionError as e:\n",
    "    logging.error(\"ZeroDivisionError\", exc_info=True)"
   ]
  },
  {
   "cell_type": "code",
   "execution_count": 17,
   "metadata": {},
   "outputs": [],
   "source": [
    "# logging exceptions variante 2\n",
    "try:\n",
    "    1/0\n",
    "except ZeroDivisionError as e:\n",
    "    logging.exception(\"ZeroDivisionError variante 2\")"
   ]
  }
 ],
 "metadata": {
  "kernelspec": {
   "display_name": "Python 3.10.4 64-bit",
   "language": "python",
   "name": "python3"
  },
  "language_info": {
   "codemirror_mode": {
    "name": "ipython",
    "version": 3
   },
   "file_extension": ".py",
   "mimetype": "text/x-python",
   "name": "python",
   "nbconvert_exporter": "python",
   "pygments_lexer": "ipython3",
   "version": "3.10.4"
  },
  "orig_nbformat": 4,
  "vscode": {
   "interpreter": {
    "hash": "7509cc397b0cf4339de54e1283964d8fa6c04fb0ef5949930cb877e25b983a4b"
   }
  }
 },
 "nbformat": 4,
 "nbformat_minor": 2
}
