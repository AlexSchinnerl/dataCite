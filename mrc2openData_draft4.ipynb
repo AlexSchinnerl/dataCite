{
 "cells": [
  {
   "cell_type": "code",
   "execution_count": 2,
   "metadata": {},
   "outputs": [],
   "source": [
    "import xml.etree.ElementTree as ET\n",
    "import re"
   ]
  },
  {
   "cell_type": "markdown",
   "metadata": {},
   "source": [
    "# Load Marc xml"
   ]
  },
  {
   "cell_type": "code",
   "execution_count": 3,
   "metadata": {},
   "outputs": [],
   "source": [
    "# load Marc xml\n",
    "tree = ET.parse(\"exportExample.xml\")\n",
    "collection = tree.getroot() # rename root in collection (export starts with collection)"
   ]
  },
  {
   "cell_type": "code",
   "execution_count": 4,
   "metadata": {},
   "outputs": [],
   "source": [
    "def create_creator(author):\n",
    "    '''\n",
    "    function to create the multiple creators\n",
    "    Input is either the main author: records.find(\".//datafield[@tag='100']\") \n",
    "    - or the side Authors: records.findall(\".//datafield[@tag='700']\")\n",
    "    the function appends subfields to the \"creators\" Tag and fills them with text from the mrcXml\n",
    "    '''\n",
    "    creator = ET.SubElement(creators, \"creator\")\n",
    "\n",
    "    creatorName = ET.SubElement(creator, \"creatorName\")\n",
    "    creatorName.attrib = {\"nameType\":\"Personal\"}\n",
    "    creatorName.text = author.find(\"subfield[@code='a']\").text\n",
    "\n",
    "    givenName = ET.SubElement(creator, \"givenName\")\n",
    "    givenName.text = author.find(\"subfield[@code='a']\").text.split(\",\")[1]\n",
    "\n",
    "    familyName = ET.SubElement(creator, \"familyName\")\n",
    "    familyName.text = author.find(\"subfield[@code='a']\").text.split(\",\")[0]\n",
    "\n",
    "    nameIdentifier = ET.SubElement(creator, \"nameIdentifier\")\n",
    "    nameIdentifier.attrib = {\n",
    "        \"schemeURI\":\"https://orcid.org/\",\n",
    "        \"nameIdentifierScheme\":\"ORCID\"\n",
    "        }\n",
    "    nameIdentifier.text = \" \"\n",
    "\n",
    "    affiliation = ET.SubElement(creator, \"affiliation\")\n",
    "    affiliation.text = \" \""
   ]
  },
  {
   "cell_type": "markdown",
   "metadata": {},
   "source": [
    "# MarcXml_2_DataCite"
   ]
  },
  {
   "cell_type": "code",
   "execution_count": 8,
   "metadata": {},
   "outputs": [],
   "source": [
    "records = collection[0] # first record in collection # later replace with: for record in collection\n",
    "\n",
    "dcOutput = ET.Element(\"resource\")\n",
    "dcOutput.attrib = {\n",
    "    \"xmlns:xsi\":\"http://www.w3.org/2001/XMLSchema-instance\",\n",
    "    \"xsi:schemaLocation\": \"http://datacite.org/schema/kernel-4 https://schema.datacite.org/meta/kernel-4.4/metadata.xsd\"\n",
    "    }\n",
    "\n",
    "# Identifier -------------------------------------------------------------\n",
    "identifierMRC = records.findall(\".//datafield[@tag='024']\")\n",
    "\n",
    "for item in identifierMRC:\n",
    "    identifier = ET.Element(\"identifier\")\n",
    "    identifier.attrib = {\"identifierType\":item.find(\"subfield[@code='2']\").text}\n",
    "    identifier.text = item.find(\"subfield[@code='a']\").text\n",
    "    dcOutput.append(identifier)\n",
    "\n",
    "# Creators -------------------------------------------------------------\n",
    "main_authorMRC = records.find(\".//datafield[@tag='100']\")\n",
    "side_authorMRC = records.findall(\".//datafield[@tag='700']\")\n",
    "    # subfield a = creatorName\n",
    "    # subfield a - split \",\" split[0] = familyName split[1] = givenName\n",
    "    # subfield??? = nameIdentifier -- z.B. ORCID\n",
    "    # subfield??? = affiliation\n",
    "\n",
    "creators = ET.Element(\"creators\")\n",
    "create_creator(main_authorMRC)\n",
    "for author in side_authorMRC:\n",
    "    create_creator(author)\n",
    "\n",
    "dcOutput.append(creators)\n",
    "\n",
    "# Titles -------------------------------------------------------------\n",
    "titleMRC = records.find(\".//datafield[@tag='245']\")\n",
    "titles = ET.Element(\"titles\")\n",
    "# ------------------------------ Main Title\n",
    "title = ET.SubElement(titles, \"title\")\n",
    "title.text = titleMRC.find(\"subfield[@code='a']\").text\n",
    "# ------------------------------ Subtitle\n",
    "subtitle = ET.SubElement(titles, \"title\")\n",
    "subtitle.attrib = {\n",
    "    \"titleType\":\"Subtitle\"\n",
    "    }\n",
    "subtitle.text = titleMRC.find(\"subfield[@code='b']\").text\n",
    "\n",
    "dcOutput.append(titles)\n",
    "\n",
    "# publisher -------------------------------------------------------------\n",
    "publisherMRC = records.find(\".//datafield[@tag='264']\")\n",
    "\n",
    "publisher = ET.Element(\"publisher\")\n",
    "publisher.text = publisherMRC.find(\"subfield[@code='b']\").text\n",
    "\n",
    "dcOutput.append(publisher)\n",
    "\n",
    "# publication Year -------------------------------------------------------------\n",
    "publicationYear = ET.Element(\"publicationYear\")\n",
    "pubDate = re.search(\"\\d{4}\", publisherMRC.find(\"subfield[@code='c']\").text).group() # search for 4 digits in the \"c\" Subfield\n",
    "publicationYear.text = pubDate\n",
    "\n",
    "dcOutput.append(publicationYear)\n",
    "\n",
    "# Language -------------------------------------------------------------\n",
    "languageMRC = records.find(\".//datafield[@tag='041']\")\n",
    "\n",
    "language = ET.Element(\"language\")\n",
    "language.text = languageMRC.find(\"subfield[@code='a']\").text\n",
    "\n",
    "dcOutput.append(language)\n",
    "\n",
    "# Resource Type -------------------------------------------------------------\n",
    "resourceType = ET.Element(\"resourceType\")\n",
    "resourceType.attrib = {\"resourceTypeGeneral\":\"Text\"}\n",
    "resourceType.text = \" \"\n",
    "\n",
    "dcOutput.append(resourceType)\n",
    "\n",
    "# Formats -------------------------------------------------------------\n",
    "formats = ET.Element(\"formats\")\n",
    "formatDC = ET.SubElement(formats, \"format\")\n",
    "formatDC.text = \"PDF\"\n",
    "\n",
    "dcOutput.append(formats)\n",
    "\n",
    "# Descriptions -------------------------------------------------------------\n",
    "abstractMRC = records.find(\".//datafield[@tag='520']\")\n",
    "\n",
    "descriptions = ET.Element(\"descriptions\")\n",
    "\n",
    "# ------------- Abstract\n",
    "description = ET.SubElement(descriptions, \"description\")\n",
    "description.attrib = {\"descriptionType\":\"Abstract\"}\n",
    "description.text = abstractMRC.find(\"subfield[@code='a']\").text\n",
    "# ------------- Series Information\n",
    "\n",
    "\n",
    "# -------------------------------------------------------------\n",
    "# create Tree -------------------------------------------------------------\n",
    "dcTree = ET.ElementTree(dcOutput)\n",
    "# -------------------------------------------------------------\n",
    "# write output--------------------------------------------------------------\n",
    "dcTree.write(\"output.xml\")"
   ]
  },
  {
   "cell_type": "code",
   "execution_count": 6,
   "metadata": {},
   "outputs": [
    {
     "data": {
      "text/plain": [
       "<Element 'subfield' at 0x0000024B58D28040>"
      ]
     },
     "execution_count": 6,
     "metadata": {},
     "output_type": "execute_result"
    }
   ],
   "source": [
    "publisherMRC.find(\"subfield[@code='b']\")"
   ]
  },
  {
   "cell_type": "code",
   "execution_count": 7,
   "metadata": {},
   "outputs": [],
   "source": [
    "# dcTree = ET.ElementTree(dcOutput)\n",
    "# dcTree.write(\"dcTest.xml\")"
   ]
  },
  {
   "cell_type": "markdown",
   "metadata": {},
   "source": [
    "# ToDo\n",
    "\n",
    "* resourceType> resourceTypeGeneral=\"Software\">XML /resourceType\n",
    "    * resourceTypeGeneral soll \"Text\" sein\n",
    "    * kein text\n",
    "*   formats>    format>application/xml /format>   /formats>\n",
    "    * befüllen mit \"PDF\" (wir haben nix anderes)\n",
    "    * alternativ auch aus datafield tag=\"347\" ind1=\" \" ind2=\" \"> subfield code=\"b\">PDF /subfield>\n",
    "* descriptions> description xml:lang=\"en-US\" descriptionType=\"Abstract\">XML example of all DataCite Metadata Schema v4.4 properties./description>   /descriptions>\n",
    "    * ---NB! 520 kann mehrmals vorkommen.\n",
    "        * descriptionType=\"Abstract\"\n",
    "            * befüllen mit datafield tag=\"520\" ind1=\" \" ind2=\" \"> subfield code=\"a\">\n",
    "            * Prefix Text \"eng: \" entfernen (ev. auch ger:)\n",
    "        * descriptionType=\"SeriesInformation\"\n",
    "            * datafield tag=\"490\" ind1=\"0\" ind2=\" \"> subfield code=\"a\">RISC Report Series /subfield> subfield code=\"v\">22-04 /subfield>\n",
    "                * NB! subfielder mit \",\" getrennt\n",
    "            * Bei ZS: 773 0 9 $t $g NB! $t und $g mit \",\" getrennt\n",
    "                * z.B. AC16411195\n",
    "* alternateIdentifiers> alternateIdentifier alternateIdentifierType=\"URL\"> /alternateIdentifier>  /alternateIdentifiers>\n",
    "    * befüllen mit URN\n",
    "    * alternateIdentifierType=\"URN\"\n",
    "    * NB! Identifiers nur mit DOI\n",
    "* rightsList> rights xml:lang=\"en-US\" schemeURI=\"https://spdx.org/licenses/\" rightsIdentifierScheme=\"SPDX\" rightsIdentifier=\"CC0 1.0\" rightsURI=\"https://creativecommons.org/publicdomain/zero/1.0/\" /> /rightsList>\n",
    "    * rightsIdentifier=\"CC BY 4.0 \" standardmäßig einfügen\n",
    "    * Rights URI: https://creativecommons.org/licenses/by/4.0/legalcode\n",
    "    * Felder im datafield tag=\"540\" subfield code=\"f\" subfield code=\"u\" (hat leider eine andere URL)\n",
    "* sizes> size>4 kB /size> /sizes>\n",
    "    * befüllen mit datafield tag=\"300\" ind1=\" \" ind2=\" \"> subfield code=\"a\">1 Online-Ressource (22 Seiten) /subfield> /datafield>\n",
    "    * NB! nur die Seitenzahl (22) + \"pages\" anhängen\n",
    "* fundingReferences> fundingReference>\n",
    "      funderName>National Science Foundation /funderName>\n",
    "      funderIdentifier funderIdentifierType=\"Crossref Funder ID\">https://doi.org/10.13039/100000001 /funderIdentifier>\n",
    "      awardNumber>CBET-106 /awardNumber>\n",
    "      awardTitle>Full DataCite XML Example /awardTitle>\n",
    "    /fundingReference> /fundingReferences>\n",
    "    * datafield tag=\"536\" ind1=\" \" ind2=\" \"> subfield code=\"a\">Fonds zur Förderung der Wissenschaftlichen Forschung /subfield> subfield code=\"f\">P 35530 /subfield>\n",
    "        * funderName> --> subfield code=\"a\">\n",
    "        * awardNumber> --> subfield code=\"f\">\n",
    "        * funderIdentifier --> DOI des Funders (ev. wenn FWF: xxx, else: yyy)\n",
    "        \n"
   ]
  }
 ],
 "metadata": {
  "kernelspec": {
   "display_name": "Python 3.10.4 64-bit",
   "language": "python",
   "name": "python3"
  },
  "language_info": {
   "codemirror_mode": {
    "name": "ipython",
    "version": 3
   },
   "file_extension": ".py",
   "mimetype": "text/x-python",
   "name": "python",
   "nbconvert_exporter": "python",
   "pygments_lexer": "ipython3",
   "version": "3.10.4"
  },
  "orig_nbformat": 4,
  "vscode": {
   "interpreter": {
    "hash": "7509cc397b0cf4339de54e1283964d8fa6c04fb0ef5949930cb877e25b983a4b"
   }
  }
 },
 "nbformat": 4,
 "nbformat_minor": 2
}
