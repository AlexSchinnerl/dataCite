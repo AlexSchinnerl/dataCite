{
 "cells": [
  {
   "cell_type": "code",
   "execution_count": 1,
   "metadata": {},
   "outputs": [],
   "source": [
    "# https://support.datacite.org/docs/fields-file-upload\n",
    "# https://support.datacite.org/docs/doi-content-negotiation#section-supported-content-types\n"
   ]
  },
  {
   "cell_type": "code",
   "execution_count": 2,
   "metadata": {},
   "outputs": [],
   "source": [
    "import xml.etree.ElementTree as ET"
   ]
  },
  {
   "cell_type": "code",
   "execution_count": 3,
   "metadata": {},
   "outputs": [],
   "source": [
    "# https://docs.python.org/3/library/xml.etree.elementtree.html#tutorial\n",
    "\n",
    "# https://www.youtube.com/watch?v=j0xr0-IAqyk&ab_channel=Socratica"
   ]
  },
  {
   "cell_type": "markdown",
   "metadata": {},
   "source": [
    "# Basics"
   ]
  },
  {
   "cell_type": "markdown",
   "metadata": {},
   "source": [
    "## Load xml"
   ]
  },
  {
   "cell_type": "code",
   "execution_count": 4,
   "metadata": {},
   "outputs": [],
   "source": [
    "tree = ET.parse(\"bibliographicData.xml\")\n",
    "root = tree.getroot()\n",
    "# ET.tostring(root) # transforms xml to a string"
   ]
  },
  {
   "cell_type": "markdown",
   "metadata": {},
   "source": [
    "## Tagname and Attributes"
   ]
  },
  {
   "cell_type": "code",
   "execution_count": 5,
   "metadata": {},
   "outputs": [
    {
     "data": {
      "text/plain": [
       "'record'"
      ]
     },
     "execution_count": 5,
     "metadata": {},
     "output_type": "execute_result"
    }
   ],
   "source": [
    "# print the tagname of root\n",
    "root.tag"
   ]
  },
  {
   "cell_type": "code",
   "execution_count": 6,
   "metadata": {},
   "outputs": [
    {
     "data": {
      "text/plain": [
       "'Tagname'"
      ]
     },
     "execution_count": 6,
     "metadata": {},
     "output_type": "execute_result"
    }
   ],
   "source": [
    "# Get Attributes\n",
    "root.get(\"name\") # get Attribute called \"name\""
   ]
  },
  {
   "cell_type": "code",
   "execution_count": 7,
   "metadata": {},
   "outputs": [
    {
     "data": {
      "text/plain": [
       "{'name': 'Tagname'}"
      ]
     },
     "execution_count": 7,
     "metadata": {},
     "output_type": "execute_result"
    }
   ],
   "source": [
    "root.attrib # returns all attributes as a Dictionary"
   ]
  },
  {
   "cell_type": "code",
   "execution_count": 8,
   "metadata": {},
   "outputs": [
    {
     "data": {
      "text/plain": [
       "{'name': 'Tagname', 'newTagName': 'bla'}"
      ]
     },
     "execution_count": 8,
     "metadata": {},
     "output_type": "execute_result"
    }
   ],
   "source": [
    "root.set(\"newTagName\", \"bla\") # set new attribute\n",
    "root.attrib "
   ]
  },
  {
   "cell_type": "markdown",
   "metadata": {},
   "source": [
    "## Save Tree into xml File"
   ]
  },
  {
   "cell_type": "code",
   "execution_count": 9,
   "metadata": {},
   "outputs": [],
   "source": [
    "tree.write(\"bibliographicData-updated.xml\") # Write new Attribute to xml File"
   ]
  },
  {
   "cell_type": "markdown",
   "metadata": {},
   "source": [
    "# Get Childs\n",
    "\n",
    "Die wichtigsten Argumente sind:\n",
    "* .text - gibt den Inhalt des tags an\n",
    "* .tag - gibt den tagnamen an\n",
    "* .attrib - gibt die Attribute als Dictionary an"
   ]
  },
  {
   "cell_type": "code",
   "execution_count": 10,
   "metadata": {},
   "outputs": [
    {
     "data": {
      "text/plain": [
       "'Grashoff, Dietrich'"
      ]
     },
     "execution_count": 10,
     "metadata": {},
     "output_type": "execute_result"
    }
   ],
   "source": [
    "# hildren are nested, and we can access specific child nodes by index\n",
    "root[19][0].text"
   ]
  },
  {
   "cell_type": "code",
   "execution_count": 11,
   "metadata": {},
   "outputs": [
    {
     "name": "stdout",
     "output_type": "stream",
     "text": [
      "leader {}\n",
      "controlfield {'tag': '001'}\n",
      "controlfield {'tag': '005'}\n",
      "controlfield {'tag': '007'}\n",
      "controlfield {'tag': '008'}\n",
      "controlfield {'tag': '009'}\n",
      "datafield {'tag': '020', 'ind1': ' ', 'ind2': ' '}\n",
      "datafield {'tag': '035', 'ind1': ' ', 'ind2': ' '}\n",
      "datafield {'tag': '035', 'ind1': ' ', 'ind2': ' '}\n",
      "datafield {'tag': '035', 'ind1': ' ', 'ind2': ' '}\n",
      "datafield {'tag': '035', 'ind1': ' ', 'ind2': ' '}\n",
      "datafield {'tag': '035', 'ind1': ' ', 'ind2': ' '}\n",
      "datafield {'tag': '035', 'ind1': ' ', 'ind2': ' '}\n",
      "datafield {'tag': '040', 'ind1': ' ', 'ind2': ' '}\n",
      "datafield {'tag': '041', 'ind1': ' ', 'ind2': ' '}\n",
      "datafield {'tag': '044', 'ind1': ' ', 'ind2': ' '}\n",
      "datafield {'tag': '082', 'ind1': '0', 'ind2': '4'}\n",
      "datafield {'tag': '084', 'ind1': ' ', 'ind2': ' '}\n",
      "datafield {'tag': '084', 'ind1': ' ', 'ind2': ' '}\n",
      "datafield {'tag': '100', 'ind1': '1', 'ind2': ' '}\n",
      "datafield {'tag': '240', 'ind1': '1', 'ind2': '0'}\n",
      "datafield {'tag': '245', 'ind1': '1', 'ind2': '0'}\n",
      "datafield {'tag': '250', 'ind1': ' ', 'ind2': ' '}\n",
      "datafield {'tag': '264', 'ind1': ' ', 'ind2': '1'}\n",
      "datafield {'tag': '300', 'ind1': ' ', 'ind2': ' '}\n",
      "datafield {'tag': '336', 'ind1': ' ', 'ind2': ' '}\n",
      "datafield {'tag': '337', 'ind1': ' ', 'ind2': ' '}\n",
      "datafield {'tag': '338', 'ind1': ' ', 'ind2': ' '}\n",
      "datafield {'tag': '347', 'ind1': ' ', 'ind2': ' '}\n",
      "datafield {'tag': '490', 'ind1': '0', 'ind2': ' '}\n",
      "datafield {'tag': '500', 'ind1': ' ', 'ind2': ' '}\n",
      "datafield {'tag': '653', 'ind1': ' ', 'ind2': ' '}\n",
      "datafield {'tag': '653', 'ind1': ' ', 'ind2': ' '}\n",
      "datafield {'tag': '653', 'ind1': ' ', 'ind2': ' '}\n",
      "datafield {'tag': '653', 'ind1': ' ', 'ind2': ' '}\n",
      "datafield {'tag': '653', 'ind1': ' ', 'ind2': ' '}\n",
      "datafield {'tag': '653', 'ind1': ' ', 'ind2': ' '}\n",
      "datafield {'tag': '653', 'ind1': ' ', 'ind2': ' '}\n",
      "datafield {'tag': '653', 'ind1': ' ', 'ind2': ' '}\n",
      "datafield {'tag': '653', 'ind1': ' ', 'ind2': ' '}\n",
      "datafield {'tag': '653', 'ind1': ' ', 'ind2': ' '}\n",
      "datafield {'tag': '655', 'ind1': ' ', 'ind2': '7'}\n",
      "datafield {'tag': '689', 'ind1': '0', 'ind2': '0'}\n",
      "datafield {'tag': '689', 'ind1': '0', 'ind2': '1'}\n",
      "datafield {'tag': '689', 'ind1': '0', 'ind2': ' '}\n",
      "datafield {'tag': '710', 'ind1': '2', 'ind2': ' '}\n",
      "datafield {'tag': '776', 'ind1': '0', 'ind2': '8'}\n",
      "datafield {'tag': '856', 'ind1': '4', 'ind2': '0'}\n",
      "datafield {'tag': '912', 'ind1': ' ', 'ind2': ' '}\n",
      "datafield {'tag': '912', 'ind1': ' ', 'ind2': ' '}\n",
      "datafield {'tag': '912', 'ind1': ' ', 'ind2': ' '}\n",
      "datafield {'tag': '970', 'ind1': '4', 'ind2': ' '}\n",
      "datafield {'tag': '970', 'ind1': '2', 'ind2': ' '}\n"
     ]
    }
   ],
   "source": [
    "# get all childs\n",
    "for child in root:\n",
    "    print(child.tag, child.attrib)"
   ]
  },
  {
   "cell_type": "markdown",
   "metadata": {},
   "source": [
    "## find and findall Function"
   ]
  },
  {
   "cell_type": "code",
   "execution_count": 12,
   "metadata": {},
   "outputs": [
    {
     "data": {
      "text/plain": [
       "[<Element 'controlfield' at 0x0000014F24C3D300>,\n",
       " <Element 'controlfield' at 0x0000014F24C3D350>,\n",
       " <Element 'controlfield' at 0x0000014F24C3D3F0>,\n",
       " <Element 'controlfield' at 0x0000014F24C3D440>,\n",
       " <Element 'controlfield' at 0x0000014F24C3D490>]"
      ]
     },
     "execution_count": 12,
     "metadata": {},
     "output_type": "execute_result"
    }
   ],
   "source": [
    "tree.findall(\"controlfield\") # find all childs with name controlfield"
   ]
  },
  {
   "cell_type": "code",
   "execution_count": 13,
   "metadata": {},
   "outputs": [
    {
     "name": "stdout",
     "output_type": "stream",
     "text": [
      "controlfield {'tag': '001'} 997020655103340\n",
      "controlfield {'tag': '005'} 20220704101451.0\n",
      "controlfield {'tag': '007'} cr#|||||||||||\n",
      "controlfield {'tag': '008'} 190219s2018    ||||||||o|||| 00||||ger\n",
      "controlfield {'tag': '009'} AC15290932\n"
     ]
    }
   ],
   "source": [
    "# access the fields\n",
    "# possible: tag, attrib, text\n",
    "for field in tree.findall(\"controlfield\"):\n",
    "    print(field.tag, field.attrib, field.text)"
   ]
  },
  {
   "cell_type": "markdown",
   "metadata": {},
   "source": [
    "### Find specific Datafield"
   ]
  },
  {
   "cell_type": "code",
   "execution_count": 14,
   "metadata": {},
   "outputs": [
    {
     "data": {
      "text/plain": [
       "'Grashoff, Dietrich'"
      ]
     },
     "execution_count": 14,
     "metadata": {},
     "output_type": "execute_result"
    }
   ],
   "source": [
    "author = root.find(\".//datafield[@tag='100']\")\n",
    "# https://www.w3.org/TR/1999/REC-xpath-19991116/#path-abbrev\n",
    "# @name selects the name attribute of the context node\n",
    "# .//para selects the para element descendants of the context node\n",
    "\n",
    "author[0].text"
   ]
  },
  {
   "cell_type": "code",
   "execution_count": 15,
   "metadata": {},
   "outputs": [
    {
     "name": "stdout",
     "output_type": "stream",
     "text": [
      "subfield {'code': 'a'} Grashoff, Dietrich\n",
      "subfield {'code': 'd'} 1966-\n",
      "subfield {'code': '0'} (DE-588)113632029\n",
      "subfield {'code': '4'} aut\n"
     ]
    }
   ],
   "source": [
    "# print all subfield text\n",
    "for child in author:\n",
    "    print(child.tag, child.attrib, child.text)"
   ]
  },
  {
   "cell_type": "markdown",
   "metadata": {},
   "source": [
    "# Modify XML"
   ]
  },
  {
   "cell_type": "markdown",
   "metadata": {},
   "source": [
    "## Add / Delete Attribute"
   ]
  },
  {
   "cell_type": "code",
   "execution_count": 16,
   "metadata": {},
   "outputs": [],
   "source": [
    "# add incrementing id to controlfield tag\n",
    "id = 1\n",
    "for field in tree.findall(\"controlfield\"):\n",
    "    field.set(\"id\", str(id)) # id is int - has to be str\n",
    "    id+=1\n",
    "tree.write(\"bibliographicData-updated.xml\")"
   ]
  },
  {
   "cell_type": "code",
   "execution_count": 17,
   "metadata": {},
   "outputs": [],
   "source": [
    "# Delete \"id\" attributes\n",
    "for field in tree.findall(\"controlfield\"):\n",
    "    del(field.attrib[\"id\"])\n",
    "tree.write(\"bibliographicData-updated.xml\")"
   ]
  },
  {
   "cell_type": "markdown",
   "metadata": {},
   "source": [
    "## Add Element"
   ]
  },
  {
   "cell_type": "markdown",
   "metadata": {},
   "source": [
    "### Method 1 (fromstring)"
   ]
  },
  {
   "cell_type": "code",
   "execution_count": 18,
   "metadata": {},
   "outputs": [],
   "source": [
    "# Add Controlfield\n",
    "# controlfield1 = ET.fromstring(\"<controlfield>NewField</controlfield>\") # create field from string\n",
    "# root.append(controlfield1) # append element to root node"
   ]
  },
  {
   "cell_type": "markdown",
   "metadata": {},
   "source": [
    "### Method 2 (Element Constructor)"
   ]
  },
  {
   "cell_type": "code",
   "execution_count": 19,
   "metadata": {},
   "outputs": [],
   "source": [
    "# Add Controlfield\n",
    "controlfield2 = ET.Element(\"controlfield\") # Element Constructor - pass in Name of Tag\n",
    "controlfield2.text = \"Element Field\" # Set Text Value of Element\n",
    "root.append(controlfield2) # append element to root node"
   ]
  },
  {
   "cell_type": "code",
   "execution_count": 20,
   "metadata": {},
   "outputs": [],
   "source": [
    "# save\n",
    "tree.write(\"bibliographicData-updated.xml\")"
   ]
  },
  {
   "cell_type": "markdown",
   "metadata": {},
   "source": [
    "### Create Datafield\n",
    "With Indicator and Subfield"
   ]
  },
  {
   "cell_type": "code",
   "execution_count": 21,
   "metadata": {},
   "outputs": [
    {
     "name": "stdout",
     "output_type": "stream",
     "text": [
      "<datafield tag=\"240\" ind1=\"1\" ind2=\"0\"><subfield code=\"a\">New Title</subfield></datafield>\n"
     ]
    }
   ],
   "source": [
    "# Create new Title (240 1 0)\n",
    "# https://docs.python.org/3/library/xml.etree.elementtree.html#building-xml-documents\n",
    "datafield1 = ET.Element(\"datafield\") # create datafield\n",
    "datafield1.attrib = {\"tag\": \"240\", \"ind1\": \"1\", \"ind2\": \"0\"} # add indicators (attributes) to datafield\n",
    "subfield1 = ET.SubElement(datafield1, \"subfield\") # add subfield to datafield\n",
    "subfield1.attrib = {\"code\": \"a\"} # add subfield code\n",
    "subfield1.text = \"New Title\" # add subfield text\n",
    "root.append(datafield1) # append to root"
   ]
  },
  {
   "cell_type": "code",
   "execution_count": 22,
   "metadata": {},
   "outputs": [],
   "source": [
    "tree.write(\"bibliographicData-updated.xml\")"
   ]
  }
 ],
 "metadata": {
  "kernelspec": {
   "display_name": "Python 3.10.4 64-bit",
   "language": "python",
   "name": "python3"
  },
  "language_info": {
   "codemirror_mode": {
    "name": "ipython",
    "version": 3
   },
   "file_extension": ".py",
   "mimetype": "text/x-python",
   "name": "python",
   "nbconvert_exporter": "python",
   "pygments_lexer": "ipython3",
   "version": "3.10.4"
  },
  "orig_nbformat": 4,
  "vscode": {
   "interpreter": {
    "hash": "7509cc397b0cf4339de54e1283964d8fa6c04fb0ef5949930cb877e25b983a4b"
   }
  }
 },
 "nbformat": 4,
 "nbformat_minor": 2
}
