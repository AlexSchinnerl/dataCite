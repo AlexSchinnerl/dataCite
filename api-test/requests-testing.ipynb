{
 "cells": [
  {
   "cell_type": "code",
   "execution_count": 9,
   "metadata": {},
   "outputs": [],
   "source": [
    "import xml.etree.ElementTree as ET\n",
    "import re\n",
    "import requests\n",
    "import keyring\n",
    "import os\n",
    "import map_functions_API\n",
    "from testingRecord_API import check_mandatory_fields\n",
    "# from testingRecord_API import write_log"
   ]
  },
  {
   "cell_type": "code",
   "execution_count": 10,
   "metadata": {},
   "outputs": [],
   "source": [
    "def clear_directory(directory):\n",
    "    \"\"\"\n",
    "    little helper to clear all files in folder\n",
    "    \"\"\"\n",
    "    filelist = [file for file in os.listdir(directory) if file.endswith(\".xml\")]\n",
    "    for f in filelist:\n",
    "        os.remove(os.path.join(directory, f))"
   ]
  },
  {
   "cell_type": "code",
   "execution_count": 16,
   "metadata": {},
   "outputs": [
    {
     "name": "stdout",
     "output_type": "stream",
     "text": [
      "Processing: AC16712579\n",
      "created output_AC16712579.xml\n",
      "completed 1 files\n",
      "0 caveats - see log file\n",
      "Processing: AC16712576\n",
      "created output_AC16712576.xml\n",
      "completed 1 files\n",
      "0 caveats - see log file\n"
     ]
    }
   ],
   "source": [
    "def loader(acNr):\n",
    "    \"\"\"\n",
    "    Takes an acNr and builds an api request. Then gives the response as xml and also saves the xml in a file (for later checkup)\n",
    "    \"\"\"\n",
    "    key = keyring.get_password(\"alma_api\", \"alx_prod\").rstrip()\n",
    "    base = \"https://api-eu.hosted.exlibrisgroup.com\"\n",
    "    url = f\"{base}/almaws/v1/bibs?other_system_id=(AT-OBV){acNr}&apikey={key}\"\n",
    "    response = requests.get(url)\n",
    "    root = ET.fromstring(response.content)\n",
    "    # save response for checking\n",
    "    with open(f\"response_files/response_{acNr}.xml\", \"w\", encoding=\"UTF-8\") as f:\n",
    "        f.write(response.text)\n",
    "    return root\n",
    "\n",
    "def create_DCxml(record):\n",
    "    '''\n",
    "    Creates output root element 'resource'\n",
    "    Goes through a Dictionary of datafield tags and starts the corresponding function\n",
    "    '''\n",
    "    # create output root\n",
    "    output = ET.Element(\"resource\")\n",
    "    output.attrib = {\n",
    "        \"xmlns:xsi\":\"http://www.w3.org/2001/XMLSchema-instance\",\n",
    "        \"xsi:schemaLocation\": \"http://datacite.org/schema/kernel-4 https://schema.datacite.org/meta/kernel-4.4/metadata.xsd\",\n",
    "        \"xmlns\":\"http://datacite.org/schema/kernel-4\"\n",
    "        }\n",
    "    # Dictionary to map functions to Alma Datafield\n",
    "    tagsDict = {\n",
    "        \"008\":map_functions_API.create_date,\n",
    "        \"024\":map_functions_API.create_identifier,\n",
    "        \"041\":map_functions_API.create_language,\n",
    "        \"100\":map_functions_API.create_creator,\n",
    "        \"245\":map_functions_API.create_title,\n",
    "        \"264\":map_functions_API.create_publisher,\n",
    "        \"300\":map_functions_API.create_size,\n",
    "        \"347\":map_functions_API.create_formats,\n",
    "        \"520\":map_functions_API.create_descriptions,\n",
    "        \"536\":map_functions_API.create_fundingReference,\n",
    "        \"540\":map_functions_API.create_rights,\n",
    "        \"700\":map_functions_API.create_creator,\n",
    "        \"970\":map_functions_API.create_resourceType\n",
    "        }\n",
    "    # if datafield is in Alma xml - run function\n",
    "    for key in tagsDict:\n",
    "        if record.find(\".//controlfield[@tag='{}']\".format(key)) != None:\n",
    "            tagsDict[key](output, record)\n",
    "        elif record.find(\".//datafield[@tag='{}']\".format(key)) != None:\n",
    "            tagsDict[key](output, record)\n",
    "    return output\n",
    "\n",
    "def main():\n",
    "    '''\n",
    "    Loads the input xml file (Alma export), checks if mandatory fields are present and starts for each record in collection the create_DCxml function.\n",
    "    '''\n",
    "    # clear folders\n",
    "    dir_list = [\"response_files\", \"output\"] # list of folders to clear before program starts\n",
    "    for directory in dir_list:\n",
    "        clear_directory(directory)\n",
    "    #clear log file\n",
    "    open(\"output/log.txt\", \"w\").close()\n",
    "    # Load Alma xml\n",
    "    ## open input file and get acNumbers\n",
    "    with open(\"inputTXT.txt\", \"r\") as i:\n",
    "        inputfile = i.read()\n",
    "        acNumbers = re.findall(\"AC\\d{8}\", inputfile) # find AC Numbers in input file\n",
    "    ## use loader to get xml root\n",
    "    for number in acNumbers:\n",
    "        root = loader(number)\n",
    "        # go through all records    \n",
    "        counter = 0\n",
    "        record = root.find(\"bib\").find(\"record\")\n",
    "        check_mandatory_fields(record)\n",
    "        output = create_DCxml(record)\n",
    "        # create tree\n",
    "        outputTree = ET.ElementTree(output)\n",
    "        # write output\n",
    "        acNr = record.find(\".//controlfield[@tag='009']\").text\n",
    "        outputTree.write(\"output/output_{}.xml\".format(acNr))\n",
    "        print(\"created output_{}.xml\".format(acNr))\n",
    "        counter+=1\n",
    "        # print(counter)\n",
    "    \n",
    "        # for record in root:\n",
    "        #     check_mandatory_fields(record)\n",
    "        #     output = create_DCxml(record)\n",
    "        #     # create tree\n",
    "        #     outputTree = ET.ElementTree(output)\n",
    "        #     # write output\n",
    "        #     acNr = record.find(\".//controlfield[@tag='009']\").text\n",
    "        #     outputTree.write(\"output/output_{}.xml\".format(acNr))\n",
    "        #     print(\"created output_{}.xml\".format(acNr))\n",
    "        #     counter+=1\n",
    "        #     # print(counter)\n",
    "        \n",
    "        print(\"completed {} files\".format(counter))\n",
    "        # count content in log file\n",
    "        errorCount = 0\n",
    "        with open(\"output/log.txt\") as log:\n",
    "            errorCount = len(log.readlines())\n",
    "        print(\"{} caveats - see log file\".format(errorCount))\n",
    "\n",
    "main()"
   ]
  },
  {
   "cell_type": "code",
   "execution_count": 15,
   "metadata": {},
   "outputs": [
    {
     "ename": "AttributeError",
     "evalue": "'NoneType' object has no attribute 'find'",
     "output_type": "error",
     "traceback": [
      "\u001b[1;31m---------------------------------------------------------------------------\u001b[0m",
      "\u001b[1;31mAttributeError\u001b[0m                            Traceback (most recent call last)",
      "\u001b[1;32mh:\\programming\\dataCite\\api-test\\requests-testing.ipynb Cell 4\u001b[0m in \u001b[0;36m<cell line: 1>\u001b[1;34m()\u001b[0m\n\u001b[1;32m----> <a href='vscode-notebook-cell:/h%3A/programming/dataCite/api-test/requests-testing.ipynb#X10sZmlsZQ%3D%3D?line=0'>1</a>\u001b[0m main()\n",
      "\u001b[1;32mh:\\programming\\dataCite\\api-test\\requests-testing.ipynb Cell 4\u001b[0m in \u001b[0;36mmain\u001b[1;34m()\u001b[0m\n\u001b[0;32m     <a href='vscode-notebook-cell:/h%3A/programming/dataCite/api-test/requests-testing.ipynb#X10sZmlsZQ%3D%3D?line=70'>71</a>\u001b[0m record \u001b[39m=\u001b[39m root\u001b[39m.\u001b[39mfind(\u001b[39m\"\u001b[39m\u001b[39mrecord\u001b[39m\u001b[39m\"\u001b[39m)\n\u001b[0;32m     <a href='vscode-notebook-cell:/h%3A/programming/dataCite/api-test/requests-testing.ipynb#X10sZmlsZQ%3D%3D?line=71'>72</a>\u001b[0m \u001b[39m# check_mandatory_fields(record)\u001b[39;00m\n\u001b[1;32m---> <a href='vscode-notebook-cell:/h%3A/programming/dataCite/api-test/requests-testing.ipynb#X10sZmlsZQ%3D%3D?line=72'>73</a>\u001b[0m output \u001b[39m=\u001b[39m create_DCxml(record)\n\u001b[0;32m     <a href='vscode-notebook-cell:/h%3A/programming/dataCite/api-test/requests-testing.ipynb#X10sZmlsZQ%3D%3D?line=73'>74</a>\u001b[0m \u001b[39m# create tree\u001b[39;00m\n\u001b[0;32m     <a href='vscode-notebook-cell:/h%3A/programming/dataCite/api-test/requests-testing.ipynb#X10sZmlsZQ%3D%3D?line=74'>75</a>\u001b[0m outputTree \u001b[39m=\u001b[39m ET\u001b[39m.\u001b[39mElementTree(output)\n",
      "\u001b[1;32mh:\\programming\\dataCite\\api-test\\requests-testing.ipynb Cell 4\u001b[0m in \u001b[0;36mcreate_DCxml\u001b[1;34m(record)\u001b[0m\n\u001b[0;32m     <a href='vscode-notebook-cell:/h%3A/programming/dataCite/api-test/requests-testing.ipynb#X10sZmlsZQ%3D%3D?line=42'>43</a>\u001b[0m \u001b[39m# if datafield is in Alma xml - run function\u001b[39;00m\n\u001b[0;32m     <a href='vscode-notebook-cell:/h%3A/programming/dataCite/api-test/requests-testing.ipynb#X10sZmlsZQ%3D%3D?line=43'>44</a>\u001b[0m \u001b[39mfor\u001b[39;00m key \u001b[39min\u001b[39;00m tagsDict:\n\u001b[1;32m---> <a href='vscode-notebook-cell:/h%3A/programming/dataCite/api-test/requests-testing.ipynb#X10sZmlsZQ%3D%3D?line=44'>45</a>\u001b[0m     \u001b[39mif\u001b[39;00m record\u001b[39m.\u001b[39;49mfind(\u001b[39m\"\u001b[39m\u001b[39m.//controlfield[@tag=\u001b[39m\u001b[39m'\u001b[39m\u001b[39m{}\u001b[39;00m\u001b[39m'\u001b[39m\u001b[39m]\u001b[39m\u001b[39m\"\u001b[39m\u001b[39m.\u001b[39mformat(key)) \u001b[39m!=\u001b[39m \u001b[39mNone\u001b[39;00m:\n\u001b[0;32m     <a href='vscode-notebook-cell:/h%3A/programming/dataCite/api-test/requests-testing.ipynb#X10sZmlsZQ%3D%3D?line=45'>46</a>\u001b[0m         tagsDict[key](output, record)\n\u001b[0;32m     <a href='vscode-notebook-cell:/h%3A/programming/dataCite/api-test/requests-testing.ipynb#X10sZmlsZQ%3D%3D?line=46'>47</a>\u001b[0m     \u001b[39melif\u001b[39;00m record\u001b[39m.\u001b[39mfind(\u001b[39m\"\u001b[39m\u001b[39m.//datafield[@tag=\u001b[39m\u001b[39m'\u001b[39m\u001b[39m{}\u001b[39;00m\u001b[39m'\u001b[39m\u001b[39m]\u001b[39m\u001b[39m\"\u001b[39m\u001b[39m.\u001b[39mformat(key)) \u001b[39m!=\u001b[39m \u001b[39mNone\u001b[39;00m:\n",
      "\u001b[1;31mAttributeError\u001b[0m: 'NoneType' object has no attribute 'find'"
     ]
    }
   ],
   "source": [
    "main()"
   ]
  }
 ],
 "metadata": {
  "kernelspec": {
   "display_name": "Python 3",
   "language": "python",
   "name": "python3"
  },
  "language_info": {
   "codemirror_mode": {
    "name": "ipython",
    "version": 3
   },
   "file_extension": ".py",
   "mimetype": "text/x-python",
   "name": "python",
   "nbconvert_exporter": "python",
   "pygments_lexer": "ipython3",
   "version": "3.10.4"
  },
  "orig_nbformat": 4,
  "vscode": {
   "interpreter": {
    "hash": "7509cc397b0cf4339de54e1283964d8fa6c04fb0ef5949930cb877e25b983a4b"
   }
  }
 },
 "nbformat": 4,
 "nbformat_minor": 2
}
