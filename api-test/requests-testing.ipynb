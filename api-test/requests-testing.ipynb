{
 "cells": [
  {
   "cell_type": "code",
   "execution_count": 1,
   "metadata": {},
   "outputs": [],
   "source": [
    "import xml.etree.ElementTree as ET\n",
    "import re\n",
    "import requests\n",
    "import keyring\n",
    "import os\n",
    "import map_functions_API\n",
    "from testingRecord_API import check_mandatory_fields\n",
    "# from testingRecord_API import write_log"
   ]
  },
  {
   "cell_type": "code",
   "execution_count": 2,
   "metadata": {},
   "outputs": [],
   "source": [
    "# clear folder\n",
    "filelist = [file for file in os.listdir(\"testfolder\") if file.endswith(\".txt\")]\n",
    "for f in filelist:\n",
    "    os.remove(os.path.join(\"testfolder\", f))"
   ]
  },
  {
   "cell_type": "code",
   "execution_count": 3,
   "metadata": {},
   "outputs": [
    {
     "data": {
      "text/plain": [
       "'bibs'"
      ]
     },
     "execution_count": 3,
     "metadata": {},
     "output_type": "execute_result"
    }
   ],
   "source": [
    "def loader(inputList):\n",
    "    key = keyring.get_password(\"alma_api\", \"alx_prod\").rstrip()\n",
    "    base = \"https://api-eu.hosted.exlibrisgroup.com\"\n",
    "    for acNr in inputList:\n",
    "        url = f\"{base}/almaws/v1/bibs?other_system_id=(AT-OBV){acNr}&apikey={key}\"\n",
    "        response = requests.get(url)\n",
    "        root = ET.fromstring(response.content)\n",
    "        # save response for checking\n",
    "        with open(f\"response_files/response_{acNr}.xml\", \"w\", encoding=\"UTF-8\") as f:\n",
    "            f.write(response.text)\n",
    "    return root\n",
    "\n",
    "root = loader([\"AC16712579\",\"AC16712576\"])\n",
    "root.tag"
   ]
  },
  {
   "cell_type": "code",
   "execution_count": 4,
   "metadata": {},
   "outputs": [],
   "source": [
    "# record.find(\".//controlfield[@tag='008']\").text"
   ]
  },
  {
   "cell_type": "code",
   "execution_count": 5,
   "metadata": {},
   "outputs": [],
   "source": [
    "collection = root.find(\"bib\")"
   ]
  },
  {
   "cell_type": "code",
   "execution_count": null,
   "metadata": {},
   "outputs": [],
   "source": []
  },
  {
   "cell_type": "code",
   "execution_count": 6,
   "metadata": {},
   "outputs": [],
   "source": [
    "def create_DCxml(record):\n",
    "    '''\n",
    "    Creates output root element 'resource'\n",
    "    Goes through a Dictionary of datafield tags and starts the corresponding function\n",
    "    '''\n",
    "    # create output root\n",
    "    output = ET.Element(\"resource\")\n",
    "    output.attrib = {\n",
    "        \"xmlns:xsi\":\"http://www.w3.org/2001/XMLSchema-instance\",\n",
    "        \"xsi:schemaLocation\": \"http://datacite.org/schema/kernel-4 https://schema.datacite.org/meta/kernel-4.4/metadata.xsd\",\n",
    "        \"xmlns\":\"http://datacite.org/schema/kernel-4\"\n",
    "        }\n",
    "    # Dictionary to map functions to Alma Datafield\n",
    "    tagsDict = {\n",
    "        \"008\":map_functions_API.create_date,\n",
    "        \"024\":map_functions_API.create_identifier,\n",
    "        \"041\":map_functions_API.create_language,\n",
    "        \"100\":map_functions_API.create_creator,\n",
    "        \"245\":map_functions_API.create_title,\n",
    "        \"264\":map_functions_API.create_publisher,\n",
    "        \"300\":map_functions_API.create_size,\n",
    "        \"347\":map_functions_API.create_formats,\n",
    "        \"520\":map_functions_API.create_descriptions,\n",
    "        \"536\":map_functions_API.create_fundingReference,\n",
    "        \"540\":map_functions_API.create_rights,\n",
    "        \"700\":map_functions_API.create_creator,\n",
    "        \"970\":map_functions_API.create_resourceType\n",
    "        }\n",
    "    # if datafield is in Alma xml - run function\n",
    "    for key in tagsDict:\n",
    "        if record.find(\".//controlfield[@tag='{}']\".format(key)) != None:\n",
    "            tagsDict[key](output, record)\n",
    "        elif record.find(\".//datafield[@tag='{}']\".format(key)) != None:\n",
    "            tagsDict[key](output, record)\n",
    "    return output"
   ]
  },
  {
   "cell_type": "code",
   "execution_count": 13,
   "metadata": {},
   "outputs": [],
   "source": [
    "def main():\n",
    "    '''\n",
    "    Loads the input xml file (Alma export), checks if mandatory fields are present and starts for each record in collection the create_DCxml function.\n",
    "    '''\n",
    "    # Load Alma xml\n",
    "    # tree = ET.parse(\"inputFile.xml\")\n",
    "    root = loader([\"AC16712579\",\"AC16712576\"])\n",
    "    # collection = tree.getroot()\n",
    "    #clear log file\n",
    "    open(\"output/log.txt\", \"w\").close()\n",
    "    # go through all records in collection    \n",
    "    counter = 0\n",
    "    for record in root:\n",
    "        check_mandatory_fields(record)\n",
    "        output = create_DCxml(record)\n",
    "        # create tree\n",
    "        outputTree = ET.ElementTree(output)\n",
    "        # write output\n",
    "        acNr = record.find(\".//controlfield[@tag='009']\").text\n",
    "        outputTree.write(\"output/output_{}.xml\".format(acNr))\n",
    "        print(\"created output_{}.xml\".format(acNr))\n",
    "        counter+=1\n",
    "        # print(counter)\n",
    "    \n",
    "    print(\"completed {} files\".format(counter))\n",
    "    # count content in log file\n",
    "    errorCount = 0\n",
    "    with open(\"output/log.txt\") as log:\n",
    "        errorCount = len(log.readlines())\n",
    "    print(\"{} caveats - see log file\".format(errorCount))"
   ]
  },
  {
   "cell_type": "code",
   "execution_count": 14,
   "metadata": {},
   "outputs": [
    {
     "name": "stdout",
     "output_type": "stream",
     "text": [
      "Processing: AC16712576\n",
      "created output_AC16712576.xml\n",
      "completed 1 files\n"
     ]
    },
    {
     "ename": "FileNotFoundError",
     "evalue": "[Errno 2] No such file or directory: 'output/log.txt'",
     "output_type": "error",
     "traceback": [
      "\u001b[1;31m---------------------------------------------------------------------------\u001b[0m",
      "\u001b[1;31mFileNotFoundError\u001b[0m                         Traceback (most recent call last)",
      "\u001b[1;32mh:\\programming\\dataCite\\api-test\\requests-testing.ipynb Cell 9\u001b[0m in \u001b[0;36m<cell line: 1>\u001b[1;34m()\u001b[0m\n\u001b[1;32m----> <a href='vscode-notebook-cell:/h%3A/programming/dataCite/api-test/requests-testing.ipynb#X25sZmlsZQ%3D%3D?line=0'>1</a>\u001b[0m main()\n",
      "\u001b[1;32mh:\\programming\\dataCite\\api-test\\requests-testing.ipynb Cell 9\u001b[0m in \u001b[0;36mmain\u001b[1;34m()\u001b[0m\n\u001b[0;32m     <a href='vscode-notebook-cell:/h%3A/programming/dataCite/api-test/requests-testing.ipynb#X25sZmlsZQ%3D%3D?line=25'>26</a>\u001b[0m \u001b[39m# count content in log file\u001b[39;00m\n\u001b[0;32m     <a href='vscode-notebook-cell:/h%3A/programming/dataCite/api-test/requests-testing.ipynb#X25sZmlsZQ%3D%3D?line=26'>27</a>\u001b[0m errorCount \u001b[39m=\u001b[39m \u001b[39m0\u001b[39m\n\u001b[1;32m---> <a href='vscode-notebook-cell:/h%3A/programming/dataCite/api-test/requests-testing.ipynb#X25sZmlsZQ%3D%3D?line=27'>28</a>\u001b[0m \u001b[39mwith\u001b[39;00m \u001b[39mopen\u001b[39;49m(\u001b[39m\"\u001b[39;49m\u001b[39moutput/log.txt\u001b[39;49m\u001b[39m\"\u001b[39;49m) \u001b[39mas\u001b[39;00m log:\n\u001b[0;32m     <a href='vscode-notebook-cell:/h%3A/programming/dataCite/api-test/requests-testing.ipynb#X25sZmlsZQ%3D%3D?line=28'>29</a>\u001b[0m     errorCount \u001b[39m=\u001b[39m \u001b[39mlen\u001b[39m(log\u001b[39m.\u001b[39mreadlines())\n\u001b[0;32m     <a href='vscode-notebook-cell:/h%3A/programming/dataCite/api-test/requests-testing.ipynb#X25sZmlsZQ%3D%3D?line=29'>30</a>\u001b[0m \u001b[39mprint\u001b[39m(\u001b[39m\"\u001b[39m\u001b[39m{}\u001b[39;00m\u001b[39m caveats - see log file\u001b[39m\u001b[39m\"\u001b[39m\u001b[39m.\u001b[39mformat(errorCount))\n",
      "\u001b[1;31mFileNotFoundError\u001b[0m: [Errno 2] No such file or directory: 'output/log.txt'"
     ]
    }
   ],
   "source": [
    "main()"
   ]
  },
  {
   "cell_type": "code",
   "execution_count": 8,
   "metadata": {},
   "outputs": [
    {
     "name": "stdout",
     "output_type": "stream",
     "text": [
      "created output_AC16712576.xml\n"
     ]
    }
   ],
   "source": [
    "for record in root:\n",
    "    # check_mandatory_fields(record)\n",
    "    output = create_DCxml(record)\n",
    "    # create tree\n",
    "    outputTree = ET.ElementTree(output)\n",
    "    # write output\n",
    "    acNr = record.find(\".//controlfield[@tag='009']\").text\n",
    "    outputTree.write(\"output_{}.xml\".format(acNr))\n",
    "    print(\"created output_{}.xml\".format(acNr))\n",
    "    # counter+=1\n",
    "    # print(counter)"
   ]
  }
 ],
 "metadata": {
  "kernelspec": {
   "display_name": "Python 3",
   "language": "python",
   "name": "python3"
  },
  "language_info": {
   "codemirror_mode": {
    "name": "ipython",
    "version": 3
   },
   "file_extension": ".py",
   "mimetype": "text/x-python",
   "name": "python",
   "nbconvert_exporter": "python",
   "pygments_lexer": "ipython3",
   "version": "3.10.4"
  },
  "orig_nbformat": 4,
  "vscode": {
   "interpreter": {
    "hash": "7509cc397b0cf4339de54e1283964d8fa6c04fb0ef5949930cb877e25b983a4b"
   }
  }
 },
 "nbformat": 4,
 "nbformat_minor": 2
}
