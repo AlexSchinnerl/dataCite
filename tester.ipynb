{
 "cells": [
  {
   "cell_type": "markdown",
   "metadata": {},
   "source": [
    "# Testfile\n",
    "Loads the first record of the input file - for quick testing"
   ]
  },
  {
   "cell_type": "code",
   "execution_count": 6,
   "metadata": {},
   "outputs": [],
   "source": [
    "import xml.etree.ElementTree as ET\n",
    "import re"
   ]
  },
  {
   "cell_type": "code",
   "execution_count": 66,
   "metadata": {},
   "outputs": [
    {
     "name": "stdout",
     "output_type": "stream",
     "text": [
      "No Publication Data (datafield 264) in record\n"
     ]
    }
   ],
   "source": [
    "tree = ET.parse(\"inputFile.xml\")\n",
    "collection = tree.getroot() # rename root in collection (export starts with collection)\n",
    "record = collection[0]"
   ]
  },
  {
   "cell_type": "code",
   "execution_count": 22,
   "metadata": {},
   "outputs": [],
   "source": [
    "output = ET.Element(\"resource\")"
   ]
  },
  {
   "cell_type": "code",
   "execution_count": 72,
   "metadata": {},
   "outputs": [
    {
     "data": {
      "text/plain": [
       "'https://creativecommons.org/licenses/by-nc/4.0/legalcode'"
      ]
     },
     "execution_count": 72,
     "metadata": {},
     "output_type": "execute_result"
    }
   ],
   "source": [
    "# https://creativecommons.org/licenses/by-nc/4.0/legalcode\n",
    "myString = \"CC BY-NC 4.0\"\n",
    "myString.split(\" \")\n",
    "mylink = \"https://creativecommons.org/licenses/{}/{}/legalcode\".format(\n",
    "    myString.split(\" \")[1].lower(),\n",
    "    myString.split(\" \")[2]\n",
    ")\n",
    "mylink"
   ]
  }
 ],
 "metadata": {
  "kernelspec": {
   "display_name": "Python 3.10.4 64-bit",
   "language": "python",
   "name": "python3"
  },
  "language_info": {
   "codemirror_mode": {
    "name": "ipython",
    "version": 3
   },
   "file_extension": ".py",
   "mimetype": "text/x-python",
   "name": "python",
   "nbconvert_exporter": "python",
   "pygments_lexer": "ipython3",
   "version": "3.10.4"
  },
  "orig_nbformat": 4,
  "vscode": {
   "interpreter": {
    "hash": "7509cc397b0cf4339de54e1283964d8fa6c04fb0ef5949930cb877e25b983a4b"
   }
  }
 },
 "nbformat": 4,
 "nbformat_minor": 2
}
