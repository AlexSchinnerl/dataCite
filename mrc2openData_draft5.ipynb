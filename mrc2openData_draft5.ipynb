{
 "cells": [
  {
   "cell_type": "code",
   "execution_count": 1,
   "metadata": {},
   "outputs": [],
   "source": [
    "import xml.etree.ElementTree as ET\n",
    "import re"
   ]
  },
  {
   "cell_type": "markdown",
   "metadata": {},
   "source": [
    "# Load Marc xml"
   ]
  },
  {
   "cell_type": "code",
   "execution_count": 2,
   "metadata": {},
   "outputs": [],
   "source": [
    "# load Marc xml\n",
    "tree = ET.parse(\"exportExample.xml\")\n",
    "collection = tree.getroot() # rename root in collection (export starts with collection)"
   ]
  },
  {
   "cell_type": "code",
   "execution_count": 3,
   "metadata": {},
   "outputs": [],
   "source": [
    "def create_creator(author):\n",
    "    '''\n",
    "    function to create the multiple creators\n",
    "    Input is either the main author: records.find(\".//datafield[@tag='100']\") \n",
    "    - or the side Authors: records.findall(\".//datafield[@tag='700']\")\n",
    "    the function appends subfields to the \"creators\" Tag and fills them with text from the mrcXml\n",
    "    '''\n",
    "    creator = ET.SubElement(creators, \"creator\")\n",
    "\n",
    "    creatorName = ET.SubElement(creator, \"creatorName\")\n",
    "    creatorName.attrib = {\"nameType\":\"Personal\"}\n",
    "    creatorName.text = author.find(\"subfield[@code='a']\").text\n",
    "\n",
    "    givenName = ET.SubElement(creator, \"givenName\")\n",
    "    givenName.text = author.find(\"subfield[@code='a']\").text.split(\",\")[1]\n",
    "\n",
    "    familyName = ET.SubElement(creator, \"familyName\")\n",
    "    familyName.text = author.find(\"subfield[@code='a']\").text.split(\",\")[0]\n",
    "\n",
    "    # name Identifier and affiliation not in MRC Data\n",
    "\n",
    "    # nameIdentifier = ET.SubElement(creator, \"nameIdentifier\")\n",
    "    # nameIdentifier.attrib = {\n",
    "    #     \"schemeURI\":\"https://orcid.org/\",\n",
    "    #     \"nameIdentifierScheme\":\"ORCID\"\n",
    "    #     }\n",
    "    # nameIdentifier.text = \" \"\n",
    "\n",
    "    # affiliation = ET.SubElement(creator, \"affiliation\")\n",
    "    # affiliation.text = \" \""
   ]
  },
  {
   "cell_type": "markdown",
   "metadata": {},
   "source": [
    "# Functions"
   ]
  },
  {
   "cell_type": "markdown",
   "metadata": {},
   "source": [
    "## Identifier"
   ]
  },
  {
   "cell_type": "code",
   "execution_count": 4,
   "metadata": {},
   "outputs": [],
   "source": [
    "def create_identifier(output):\n",
    "    '''Searches the 024 field'''\n",
    "    identifierMRC = records.findall(\".//datafield[@tag='024']\")\n",
    "\n",
    "    for item in identifierMRC:\n",
    "        if item.find(\"subfield[@code='2']\").text == \"doi\":\n",
    "            identifier = ET.Element(\"identifier\")\n",
    "            identifier.attrib = {\"identifierType\":\"DOI\"}\n",
    "            identifier.text = item.find(\"subfield[@code='a']\").text\n",
    "\n",
    "            output.append(identifier)\n",
    "            \n",
    "        elif item.find(\"subfield[@code='2']\").text == \"urn\":\n",
    "            altidentifiers = ET.Element(\"alternateIdentifiers\")\n",
    "            altidentifier = ET.SubElement(altidentifiers, \"alternateIdentifier\")\n",
    "            altidentifier.attrib = {\"alternateIdentifierType\":item.find(\"subfield[@code='2']\").text}\n",
    "            altidentifier.text = item.find(\"subfield[@code='a']\").text\n",
    "\n",
    "            output.append(altidentifiers)"
   ]
  },
  {
   "cell_type": "markdown",
   "metadata": {},
   "source": [
    "## Author"
   ]
  },
  {
   "cell_type": "code",
   "execution_count": 5,
   "metadata": {},
   "outputs": [],
   "source": [
    "def helper_create_creator(author, mainElement):\n",
    "    creator = ET.SubElement(mainElement, \"creator\")\n",
    "\n",
    "    creatorName = ET.SubElement(creator, \"creatorName\")\n",
    "    creatorName.attrib = {\"nameType\":\"Personal\"}\n",
    "    creatorName.text = author.find(\"subfield[@code='a']\").text\n",
    "\n",
    "    givenName = ET.SubElement(creator, \"givenName\")\n",
    "    givenName.text = author.find(\"subfield[@code='a']\").text.split(\",\")[1]\n",
    "\n",
    "    familyName = ET.SubElement(creator, \"familyName\")\n",
    "    familyName.text = author.find(\"subfield[@code='a']\").text.split(\",\")[0]\n",
    "\n",
    "\n",
    "def create_creator(output):\n",
    "    main_authorMRC = records.find(\".//datafield[@tag='100']\")\n",
    "    creators = ET.Element(\"creators\")\n",
    "\n",
    "    # create main Author\n",
    "    helper_create_creator(main_authorMRC, creators)\n",
    "    \n",
    "    # create side-authors\n",
    "    if records.findall(\".//datafield[@tag='700']\") != None:\n",
    "        side_authorMRC = records.findall(\".//datafield[@tag='700']\")\n",
    "        for author in side_authorMRC:\n",
    "            helper_create_creator(author, creators)\n",
    "\n",
    "    output.append(creators)"
   ]
  },
  {
   "cell_type": "markdown",
   "metadata": {},
   "source": [
    "## Title"
   ]
  },
  {
   "cell_type": "code",
   "execution_count": 6,
   "metadata": {},
   "outputs": [],
   "source": [
    "def create_title(output):\n",
    "    titleMRC = records.find(\".//datafield[@tag='245']\")\n",
    "    titles = ET.Element(\"titles\")\n",
    "    # ------------------------------ Main Title\n",
    "    title = ET.SubElement(titles, \"title\")\n",
    "    title.text = titleMRC.find(\"subfield[@code='a']\").text\n",
    "    # ------------------------------ Subtitle\n",
    "    if titleMRC.find(\"subfield[@code='b']\") != None:\n",
    "        subtitle = ET.SubElement(titles, \"title\")\n",
    "        subtitle.attrib = {\n",
    "            \"titleType\":\"Subtitle\"\n",
    "            }\n",
    "        subtitle.text = titleMRC.find(\"subfield[@code='b']\").text\n",
    "\n",
    "    output.append(titles)"
   ]
  },
  {
   "cell_type": "markdown",
   "metadata": {},
   "source": [
    "## Publisher/Publication Year"
   ]
  },
  {
   "cell_type": "code",
   "execution_count": 10,
   "metadata": {},
   "outputs": [],
   "source": [
    "def create_publisher(output):\n",
    "    # publisher -------------------------------------------------------------\n",
    "    publisherMRC = records.find(\".//datafield[@tag='264']\")\n",
    "    publisher = ET.Element(\"publisher\")\n",
    "    publisher.text = publisherMRC.find(\"subfield[@code='b']\").text\n",
    "    \n",
    "    output.append(publisher)\n",
    "    \n",
    "    # publication Year -------------------------------------------------------------\n",
    "    publicationYear = ET.Element(\"publicationYear\")\n",
    "    pubDate = re.search(\"\\d{4}\", publisherMRC.find(\"subfield[@code='c']\").text).group() # search for 4 digits in the \"c\" Subfield\n",
    "    publicationYear.text = pubDate\n",
    "    \n",
    "    output.append(publicationYear)"
   ]
  },
  {
   "cell_type": "markdown",
   "metadata": {},
   "source": [
    "## Language"
   ]
  },
  {
   "cell_type": "code",
   "execution_count": 13,
   "metadata": {},
   "outputs": [],
   "source": [
    "def create_language(output):\n",
    "    languageMRC = records.find(\".//datafield[@tag='041']\")\n",
    "\n",
    "    language = ET.Element(\"language\")\n",
    "    language.text = languageMRC.find(\"subfield[@code='a']\").text\n",
    "\n",
    "    output.append(language)"
   ]
  },
  {
   "cell_type": "markdown",
   "metadata": {},
   "source": [
    "## Fields with fixed Value"
   ]
  },
  {
   "cell_type": "markdown",
   "metadata": {},
   "source": [
    "### Resource Type"
   ]
  },
  {
   "cell_type": "code",
   "execution_count": 15,
   "metadata": {},
   "outputs": [],
   "source": [
    "def create_resourceType(output):\n",
    "    resourceType = ET.Element(\"resourceType\")\n",
    "    resourceType.attrib = {\"resourceTypeGeneral\":\"Text\"}\n",
    "    # resourceType.text = \" \"\n",
    "\n",
    "    output.append(resourceType)\n"
   ]
  },
  {
   "cell_type": "markdown",
   "metadata": {},
   "source": [
    "### Formats"
   ]
  },
  {
   "cell_type": "code",
   "execution_count": 18,
   "metadata": {},
   "outputs": [],
   "source": [
    "def create_formats(output):\n",
    "    formats = ET.Element(\"formats\")\n",
    "    formatDC = ET.SubElement(formats, \"format\")\n",
    "    formatDC.text = \"PDF\"\n",
    "\n",
    "    output.append(formats)"
   ]
  },
  {
   "cell_type": "markdown",
   "metadata": {},
   "source": [
    "### Rights"
   ]
  },
  {
   "cell_type": "code",
   "execution_count": 26,
   "metadata": {},
   "outputs": [],
   "source": [
    "def create_rights(output):\n",
    "    rightsList = ET.Element(\"rightsList\")\n",
    "    rights = ET.SubElement(rightsList, \"rights\")\n",
    "    rights.attrib = {\n",
    "        \"rightsIdentifier\":\"CC BY 4.0\",\n",
    "        \"rightsURI\":\"https://creativecommons.org/licenses/by/4.0/legalcode\"\n",
    "        }\n",
    "    # rights.text = \" \"\n",
    "\n",
    "    output.append(rightsList)\n"
   ]
  },
  {
   "cell_type": "markdown",
   "metadata": {},
   "source": [
    "## Descriptions"
   ]
  },
  {
   "cell_type": "code",
   "execution_count": 22,
   "metadata": {},
   "outputs": [],
   "source": [
    "def create_descriptions(output):\n",
    "    descriptions = ET.Element(\"descriptions\")\n",
    "\n",
    "    # ------------- Abstract\n",
    "    abstractMRC = records.findall(\".//datafield[@tag='520']\")\n",
    "\n",
    "    for item in abstractMRC:\n",
    "        description = ET.SubElement(descriptions, \"description\")\n",
    "        description.attrib = {\"descriptionType\":\"Abstract\"}\n",
    "        # cut \"eng: \" or \"ger: \" from abstract text\n",
    "        oldText = item.find(\"subfield[@code='a']\").text\n",
    "        toCut = re.search(\"^eng: |^ger: \", oldText).group()\n",
    "        abstractText = oldText.replace(toCut, \"\")\n",
    "        description.text = abstractText\n",
    "\n",
    "    # ------------- Series Information\n",
    "    description = ET.SubElement(descriptions, \"description\")\n",
    "    description.attrib = {\"descriptionType\":\"SeriesInformation\"}\n",
    "\n",
    "    check_for_490 = records.find(\".//datafield[@tag='490']\")\n",
    "    # field 490 is not present - .find() returns None\n",
    "\n",
    "    if check_for_490 is None:\n",
    "        seriesInformationMRC = records.find(\".//datafield[@tag='773']\")\n",
    "        description.text = str(\n",
    "            seriesInformationMRC.find(\"subfield[@code='t']\").text + \n",
    "            \", \" + \n",
    "            seriesInformationMRC.find(\"subfield[@code='g']\").text\n",
    "            )\n",
    "    else:\n",
    "        seriesInformationMRC = records.find(\".//datafield[@tag='490']\")\n",
    "        description.text = str(\n",
    "            seriesInformationMRC.find(\"subfield[@code='a']\").text + \n",
    "            \", \" + \n",
    "            seriesInformationMRC.find(\"subfield[@code='v']\").text\n",
    "            )\n",
    "\n",
    "    output.append(descriptions)\n"
   ]
  },
  {
   "cell_type": "markdown",
   "metadata": {},
   "source": [
    "## Size"
   ]
  },
  {
   "cell_type": "code",
   "execution_count": 42,
   "metadata": {},
   "outputs": [],
   "source": [
    "def create_size(output):\n",
    "    sizeMRC = records.find(\".//datafield[@tag='300']\")\n",
    "    sizes = ET.Element(\"sizes\")\n",
    "    size = ET.SubElement(sizes, \"size\")\n",
    "    if re.search(\"(?<=\\()\\d+\", sizeMRC.find(\"subfield[@code='a']\").text) is None:\n",
    "        size.text = records.find(\".//datafield[@tag='300']\").find(\"subfield[@code='a']\").text\n",
    "    else:\n",
    "        pageNr = re.search(\"(?<=\\()\\d+\", sizeMRC.find(\"subfield[@code='a']\").text).group() # match 1-n digits after ()\n",
    "        size.text = str(pageNr + \" pages\")\n",
    "\n",
    "    output.append(sizes)"
   ]
  },
  {
   "cell_type": "markdown",
   "metadata": {},
   "source": [
    "## Funding Reference"
   ]
  },
  {
   "cell_type": "code",
   "execution_count": 45,
   "metadata": {},
   "outputs": [],
   "source": [
    "def create_fundingReference(output):\n",
    "    # fundingReferences -------------------------------------------------------------\n",
    "    fundingMRC = records.findall(\".//datafield[@tag='536']\")\n",
    "\n",
    "    fundingReferences = ET.Element(\"fundingReferences\")\n",
    "\n",
    "    for item in fundingMRC:\n",
    "        fundingReference = ET.SubElement(fundingReferences, \"fundingReference\")\n",
    "        funderName = ET.SubElement(fundingReference, \"funderName\")\n",
    "        funderIdentifier = ET.SubElement(fundingReference, \"funderIdentifier\")\n",
    "        funderIdentifier.attrib = {\"funderIdentifierType\":\"Crossref Funder ID\"}\n",
    "        awardNumber = ET.SubElement(fundingReference, \"awardNumber\")\n",
    "        awardNumber.text = item.find((\"subfield[@code='f']\")).text\n",
    "        \n",
    "        if item.find((\"subfield[@code='a']\")).text == \"Fonds zur Förderung der Wissenschaftlichen Forschung\":\n",
    "            funderName.text = \"Austrian Science Fund\"\n",
    "            funderIdentifier.text = \"https://doi.org/10.13039/501100002428\"\n",
    "        elif item.find((\"subfield[@code='a']\")).text == \"Österreichische Forschungsförderungsgesellschaft\":\n",
    "            funderName.text = \"Österreichische Forschungsförderungsgesellschaft\"\n",
    "            funderIdentifier.text = \"https://doi.org/10.13039/501100004955\"\n",
    "        elif  item.find((\"subfield[@code='a']\")).text == \"Europäische Kommission\":\n",
    "            funderName.text = \"European Commission\"\n",
    "            funderIdentifier.text = \"https://doi.org/10.13039/501100000780\"\n",
    "\n",
    "    output.append(fundingReferences)\n"
   ]
  },
  {
   "cell_type": "markdown",
   "metadata": {},
   "source": [
    "# Main"
   ]
  },
  {
   "cell_type": "code",
   "execution_count": 47,
   "metadata": {},
   "outputs": [],
   "source": [
    "def create_output():\n",
    "    output = ET.Element(\"resource\")\n",
    "    output.attrib = {\n",
    "        \"xmlns:xsi\":\"http://www.w3.org/2001/XMLSchema-instance\",\n",
    "        \"xsi:schemaLocation\": \"http://datacite.org/schema/kernel-4 https://schema.datacite.org/meta/kernel-4.4/metadata.xsd\"\n",
    "        }\n",
    "    # create Tree -------------------------------------------------------------\n",
    "    return output\n",
    "\n",
    "\n",
    "tree = ET.parse(\"exportExample-ZS.xml\")\n",
    "collection = tree.getroot() # rename root in collection (export starts with collection)\n",
    "records = collection[0]\n",
    "\n",
    "# NB! -------------------------\n",
    "# all tags in list --> for tag in tagList: if records.find(datafield[tag]) != None\n",
    "tagsList = [\"024\", \"100\", \"245\"]\n",
    "# oder Dict. {\"024\":create_identifier(output), ...}\n",
    "\n",
    "\n",
    "output = create_output()\n",
    "if records.findall(\".//datafield[@tag='{}']\".format(\"024\")) != None:\n",
    "    create_identifier(output)\n",
    "if records.find(\".//datafield[@tag='100']\") != None:\n",
    "    create_creator(output)\n",
    "if records.findall(\".//datafield[@tag='245']\") != None:\n",
    "    create_title(output)\n",
    "if records.find(\".//datafield[@tag='264']\") != None:\n",
    "    create_publisher(output)\n",
    "if records.find(\".//datafield[@tag='041']\") != None:\n",
    "    create_language(output)\n",
    "\n",
    "\n",
    "create_formats(output)\n",
    "create_resourceType(output)\n",
    "\n",
    "if records.find(\".//datafield[@tag='520']\") != None:\n",
    "    create_descriptions(output)\n",
    "\n",
    "create_rights(output)\n",
    "\n",
    "if records.find(\".//datafield[@tag='300']\") != None:\n",
    "    create_size(output)\n",
    "    \n",
    "if records.find(\".//datafield[@tag='536']\") != None:\n",
    "    create_fundingReference(output)\n",
    "\n",
    "tree = ET.ElementTree(output)\n",
    "# -------------------------------------------------------------\n",
    "# write output--------------------------------------------------------------\n",
    "tree.write(\"{}.xml\".format(\"output-ZS\"))\n"
   ]
  },
  {
   "cell_type": "markdown",
   "metadata": {},
   "source": [
    "# MarcXml_2_DataCite"
   ]
  },
  {
   "cell_type": "code",
   "execution_count": null,
   "metadata": {},
   "outputs": [],
   "source": [
    "records = collection[0] # first record in collection # later replace with: for record in collection\n",
    "\n",
    "dcOutput = ET.Element(\"resource\")\n",
    "dcOutput.attrib = {\n",
    "    \"xmlns:xsi\":\"http://www.w3.org/2001/XMLSchema-instance\",\n",
    "    \"xsi:schemaLocation\": \"http://datacite.org/schema/kernel-4 https://schema.datacite.org/meta/kernel-4.4/metadata.xsd\"\n",
    "    }\n",
    "\n",
    "# Identifier -------------------------------------------------------------\n",
    "identifierMRC = records.findall(\".//datafield[@tag='024']\")\n",
    "\n",
    "for item in identifierMRC:\n",
    "    if item.find(\"subfield[@code='2']\").text == \"doi\":\n",
    "        identifier = ET.Element(\"identifier\")\n",
    "        identifier.attrib = {\"identifierType\":\"DOI\"}\n",
    "        identifier.text = item.find(\"subfield[@code='a']\").text\n",
    "\n",
    "        dcOutput.append(identifier)\n",
    "        \n",
    "    elif item.find(\"subfield[@code='2']\").text == \"urn\":\n",
    "        altidentifiers = ET.Element(\"alternateIdentifiers\")\n",
    "        altidentifier = ET.SubElement(altidentifiers, \"alternateIdentifier\")\n",
    "        altidentifier.attrib = {\"alternateIdentifierType\":item.find(\"subfield[@code='2']\").text}\n",
    "        altidentifier.text = item.find(\"subfield[@code='a']\").text\n",
    "\n",
    "        dcOutput.append(altidentifiers)\n",
    "\n",
    "# Creators -------------------------------------------------------------\n",
    "main_authorMRC = records.find(\".//datafield[@tag='100']\")\n",
    "side_authorMRC = records.findall(\".//datafield[@tag='700']\")\n",
    "\n",
    "creators = ET.Element(\"creators\")\n",
    "create_creator(main_authorMRC)\n",
    "for author in side_authorMRC:\n",
    "    create_creator(author)\n",
    "\n",
    "dcOutput.append(creators)\n",
    "\n",
    "# Titles -------------------------------------------------------------\n",
    "titleMRC = records.find(\".//datafield[@tag='245']\")\n",
    "titles = ET.Element(\"titles\")\n",
    "# ------------------------------ Main Title\n",
    "title = ET.SubElement(titles, \"title\")\n",
    "title.text = titleMRC.find(\"subfield[@code='a']\").text\n",
    "# ------------------------------ Subtitle\n",
    "subtitle = ET.SubElement(titles, \"title\")\n",
    "subtitle.attrib = {\n",
    "    \"titleType\":\"Subtitle\"\n",
    "    }\n",
    "subtitle.text = titleMRC.find(\"subfield[@code='b']\").text\n",
    "\n",
    "dcOutput.append(titles)\n",
    "\n",
    "# publisher -------------------------------------------------------------\n",
    "publisherMRC = records.find(\".//datafield[@tag='264']\")\n",
    "\n",
    "publisher = ET.Element(\"publisher\")\n",
    "publisher.text = publisherMRC.find(\"subfield[@code='b']\").text\n",
    "\n",
    "dcOutput.append(publisher)\n",
    "\n",
    "# publication Year -------------------------------------------------------------\n",
    "publicationYear = ET.Element(\"publicationYear\")\n",
    "pubDate = re.search(\"\\d{4}\", publisherMRC.find(\"subfield[@code='c']\").text).group() # search for 4 digits in the \"c\" Subfield\n",
    "publicationYear.text = pubDate\n",
    "\n",
    "dcOutput.append(publicationYear)\n",
    "\n",
    "# Language -------------------------------------------------------------\n",
    "languageMRC = records.find(\".//datafield[@tag='041']\")\n",
    "\n",
    "language = ET.Element(\"language\")\n",
    "language.text = languageMRC.find(\"subfield[@code='a']\").text\n",
    "\n",
    "dcOutput.append(language)\n",
    "\n",
    "# Resource Type -------------------------------------------------------------\n",
    "resourceType = ET.Element(\"resourceType\")\n",
    "resourceType.attrib = {\"resourceTypeGeneral\":\"Text\"}\n",
    "# resourceType.text = \" \"\n",
    "\n",
    "dcOutput.append(resourceType)\n",
    "\n",
    "# Formats -------------------------------------------------------------\n",
    "formats = ET.Element(\"formats\")\n",
    "formatDC = ET.SubElement(formats, \"format\")\n",
    "formatDC.text = \"PDF\"\n",
    "\n",
    "dcOutput.append(formats)\n",
    "\n",
    "# Descriptions -------------------------------------------------------------\n",
    "descriptions = ET.Element(\"descriptions\")\n",
    "\n",
    "# ------------- Abstract\n",
    "abstractMRC = records.findall(\".//datafield[@tag='520']\")\n",
    "\n",
    "for item in abstractMRC:\n",
    "    description = ET.SubElement(descriptions, \"description\")\n",
    "    description.attrib = {\"descriptionType\":\"Abstract\"}\n",
    "    # cut \"eng: \" or \"ger: \" from abstract text\n",
    "    oldText = item.find(\"subfield[@code='a']\").text\n",
    "    toCut = re.search(\"^eng: |^ger: \", oldText).group()\n",
    "    abstractText = oldText.replace(toCut, \"\")\n",
    "    description.text = abstractText\n",
    "\n",
    "# ------------- Series Information\n",
    "description = ET.SubElement(descriptions, \"description\")\n",
    "description.attrib = {\"descriptionType\":\"SeriesInformation\"}\n",
    "\n",
    "check_for_490 = records.find(\".//datafield[@tag='490']\")\n",
    "# field 490 is not present - .find() returns None\n",
    "\n",
    "if check_for_490 is None:\n",
    "    seriesInformationMRC = records.find(\".//datafield[@tag='773']\")\n",
    "    description.text = str(\n",
    "        seriesInformationMRC.find(\"subfield[@code='t']\").text + \n",
    "        \", \" + \n",
    "        seriesInformationMRC.find(\"subfield[@code='g']\").text\n",
    "        )\n",
    "else:\n",
    "    seriesInformationMRC = records.find(\".//datafield[@tag='490']\")\n",
    "    description.text = str(\n",
    "        seriesInformationMRC.find(\"subfield[@code='a']\").text + \n",
    "        \", \" + \n",
    "        seriesInformationMRC.find(\"subfield[@code='v']\").text\n",
    "        )\n",
    "\n",
    "dcOutput.append(descriptions)\n",
    "\n",
    "# Rights List -------------------------------------------------------------\n",
    "rightsList = ET.Element(\"rightsList\")\n",
    "rights = ET.SubElement(rightsList, \"rights\")\n",
    "rights.attrib = {\n",
    "    \"rightsIdentifier\":\"CC BY 4.0\",\n",
    "    \"rightsURI\":\"https://creativecommons.org/licenses/by/4.0/legalcode\"\n",
    "    }\n",
    "# rights.text = \" \"\n",
    "\n",
    "dcOutput.append(rightsList)\n",
    "\n",
    "# Size -------------------------------------------------------------\n",
    "sizeMRC = records.find(\".//datafield[@tag='300']\")\n",
    "sizes = ET.Element(\"sizes\")\n",
    "size = ET.SubElement(sizes, \"size\")\n",
    "pageNr = re.search(\"(?<=\\()\\d+\", sizeMRC.find(\"subfield[@code='a']\").text).group() # match 1-n digits after ()\n",
    "size.text = str(pageNr + \" pages\")\n",
    "\n",
    "dcOutput.append(sizes)\n",
    "\n",
    "# fundingReferences -------------------------------------------------------------\n",
    "fundingMRC = records.findall(\".//datafield[@tag='536']\")\n",
    "\n",
    "fundingReferences = ET.Element(\"fundingReferences\")\n",
    "\n",
    "for item in fundingMRC:\n",
    "    fundingReference = ET.SubElement(fundingReferences, \"fundingReference\")\n",
    "    funderName = ET.SubElement(fundingReference, \"funderName\")\n",
    "    funderIdentifier = ET.SubElement(fundingReference, \"funderIdentifier\")\n",
    "    funderIdentifier.attrib = {\"funderIdentifierType\":\"Crossref Funder ID\"}\n",
    "    awardNumber = ET.SubElement(fundingReference, \"awardNumber\")\n",
    "    awardNumber.text = item.find((\"subfield[@code='f']\")).text\n",
    "    \n",
    "    if item.find((\"subfield[@code='a']\")).text == \"Fonds zur Förderung der Wissenschaftlichen Forschung\":\n",
    "        funderName.text = \"Austrian Science Fund\"\n",
    "        funderIdentifier.text = \"https://doi.org/10.13039/501100002428\"\n",
    "    elif item.find((\"subfield[@code='a']\")).text == \"Österreichische Forschungsförderungsgesellschaft\":\n",
    "        funderName.text = \"Österreichische Forschungsförderungsgesellschaft\"\n",
    "        funderIdentifier.text = \"https://doi.org/10.13039/501100004955\"\n",
    "    elif  item.find((\"subfield[@code='a']\")).text == \"Europäische Kommission\":\n",
    "        funderName.text = \"European Commission\"\n",
    "        funderIdentifier.text = \"https://doi.org/10.13039/501100000780\"\n",
    "\n",
    "dcOutput.append(fundingReferences)\n",
    "\n",
    "# -------------------------------------------------------------\n",
    "# create Tree -------------------------------------------------------------\n",
    "dcTree = ET.ElementTree(dcOutput)\n",
    "# -------------------------------------------------------------\n",
    "# write output--------------------------------------------------------------\n",
    "dcTree.write(\"output.xml\")"
   ]
  },
  {
   "cell_type": "code",
   "execution_count": null,
   "metadata": {},
   "outputs": [],
   "source": [
    "# dcTree = ET.ElementTree(dcOutput)\n",
    "# dcTree.write(\"dcTest.xml\")"
   ]
  },
  {
   "cell_type": "markdown",
   "metadata": {},
   "source": [
    "# ToDo\n",
    "\n",
    "* Docker"
   ]
  }
 ],
 "metadata": {
  "kernelspec": {
   "display_name": "Python 3.10.4 64-bit",
   "language": "python",
   "name": "python3"
  },
  "language_info": {
   "codemirror_mode": {
    "name": "ipython",
    "version": 3
   },
   "file_extension": ".py",
   "mimetype": "text/x-python",
   "name": "python",
   "nbconvert_exporter": "python",
   "pygments_lexer": "ipython3",
   "version": "3.10.4"
  },
  "orig_nbformat": 4,
  "vscode": {
   "interpreter": {
    "hash": "7509cc397b0cf4339de54e1283964d8fa6c04fb0ef5949930cb877e25b983a4b"
   }
  }
 },
 "nbformat": 4,
 "nbformat_minor": 2
}
