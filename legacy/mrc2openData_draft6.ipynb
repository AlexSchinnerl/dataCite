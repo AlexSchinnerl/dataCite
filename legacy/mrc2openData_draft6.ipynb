{
 "cells": [
  {
   "cell_type": "code",
   "execution_count": 1,
   "metadata": {},
   "outputs": [],
   "source": [
    "import xml.etree.ElementTree as ET\n",
    "import re"
   ]
  },
  {
   "cell_type": "markdown",
   "metadata": {},
   "source": [
    "# Functions"
   ]
  },
  {
   "cell_type": "markdown",
   "metadata": {},
   "source": [
    "## Identifier"
   ]
  },
  {
   "cell_type": "code",
   "execution_count": 2,
   "metadata": {},
   "outputs": [],
   "source": [
    "def create_identifier(output):\n",
    "    '''Searches the 024 field'''\n",
    "    identifierMRC = record.findall(\".//datafield[@tag='024']\")\n",
    "\n",
    "    for item in identifierMRC:\n",
    "        if item.find(\"subfield[@code='2']\").text == \"doi\":\n",
    "            identifier = ET.Element(\"identifier\")\n",
    "            identifier.attrib = {\"identifierType\":\"DOI\"}\n",
    "            identifier.text = item.find(\"subfield[@code='a']\").text\n",
    "\n",
    "            output.append(identifier)\n",
    "            \n",
    "        elif item.find(\"subfield[@code='2']\").text == \"urn\":\n",
    "            altidentifiers = ET.Element(\"alternateIdentifiers\")\n",
    "            altidentifier = ET.SubElement(altidentifiers, \"alternateIdentifier\")\n",
    "            altidentifier.attrib = {\"alternateIdentifierType\":item.find(\"subfield[@code='2']\").text}\n",
    "            altidentifier.text = item.find(\"subfield[@code='a']\").text\n",
    "\n",
    "            output.append(altidentifiers)"
   ]
  },
  {
   "cell_type": "markdown",
   "metadata": {},
   "source": [
    "## Author"
   ]
  },
  {
   "cell_type": "code",
   "execution_count": 3,
   "metadata": {},
   "outputs": [],
   "source": [
    "def helper_create_creator(author, mainElement):\n",
    "    creator = ET.SubElement(mainElement, \"creator\")\n",
    "\n",
    "    creatorName = ET.SubElement(creator, \"creatorName\")\n",
    "    creatorName.attrib = {\"nameType\":\"Personal\"}\n",
    "    creatorName.text = author.find(\"subfield[@code='a']\").text\n",
    "\n",
    "    givenName = ET.SubElement(creator, \"givenName\")\n",
    "    givenName.text = author.find(\"subfield[@code='a']\").text.split(\",\")[1]\n",
    "\n",
    "    familyName = ET.SubElement(creator, \"familyName\")\n",
    "    familyName.text = author.find(\"subfield[@code='a']\").text.split(\",\")[0]\n",
    "\n",
    "\n",
    "def create_creator(output):\n",
    "    main_authorMRC = record.find(\".//datafield[@tag='100']\")\n",
    "    creators = ET.Element(\"creators\")\n",
    "\n",
    "    # create main Author\n",
    "    helper_create_creator(main_authorMRC, creators)\n",
    "    \n",
    "    # create side-authors\n",
    "    if record.findall(\".//datafield[@tag='700']\") != None:\n",
    "        side_authorMRC = record.findall(\".//datafield[@tag='700']\")\n",
    "        for author in side_authorMRC:\n",
    "            helper_create_creator(author, creators)\n",
    "\n",
    "    output.append(creators)"
   ]
  },
  {
   "cell_type": "markdown",
   "metadata": {},
   "source": [
    "## Title"
   ]
  },
  {
   "cell_type": "code",
   "execution_count": 4,
   "metadata": {},
   "outputs": [],
   "source": [
    "def create_title(output):\n",
    "    titleMRC = record.find(\".//datafield[@tag='245']\")\n",
    "    titles = ET.Element(\"titles\")\n",
    "    # ------------------------------ Main Title\n",
    "    title = ET.SubElement(titles, \"title\")\n",
    "    title.text = titleMRC.find(\"subfield[@code='a']\").text\n",
    "    # ------------------------------ Subtitle\n",
    "    if titleMRC.find(\"subfield[@code='b']\") != None:\n",
    "        subtitle = ET.SubElement(titles, \"title\")\n",
    "        subtitle.attrib = {\n",
    "            \"titleType\":\"Subtitle\"\n",
    "            }\n",
    "        subtitle.text = titleMRC.find(\"subfield[@code='b']\").text\n",
    "\n",
    "    output.append(titles)"
   ]
  },
  {
   "cell_type": "markdown",
   "metadata": {},
   "source": [
    "## Publisher/Publication Year"
   ]
  },
  {
   "cell_type": "code",
   "execution_count": 5,
   "metadata": {},
   "outputs": [],
   "source": [
    "def create_publisher(output):\n",
    "    # publisher -------------------------------------------------------------\n",
    "    publisherMRC = record.find(\".//datafield[@tag='264']\")\n",
    "    publisher = ET.Element(\"publisher\")\n",
    "    publisher.text = publisherMRC.find(\"subfield[@code='b']\").text\n",
    "    \n",
    "    output.append(publisher)\n",
    "    \n",
    "    # publication Year -------------------------------------------------------------\n",
    "    publicationYear = ET.Element(\"publicationYear\")\n",
    "    pubDate = re.search(\"\\d{4}\", publisherMRC.find(\"subfield[@code='c']\").text).group() # search for 4 digits in the \"c\" Subfield\n",
    "    publicationYear.text = pubDate\n",
    "    \n",
    "    output.append(publicationYear)"
   ]
  },
  {
   "cell_type": "markdown",
   "metadata": {},
   "source": [
    "## Language"
   ]
  },
  {
   "cell_type": "code",
   "execution_count": 6,
   "metadata": {},
   "outputs": [],
   "source": [
    "def create_language(output):\n",
    "    languageMRC = record.find(\".//datafield[@tag='041']\")\n",
    "\n",
    "    language = ET.Element(\"language\")\n",
    "    language.text = languageMRC.find(\"subfield[@code='a']\").text\n",
    "\n",
    "    output.append(language)"
   ]
  },
  {
   "cell_type": "markdown",
   "metadata": {},
   "source": [
    "## Fields with fixed Value"
   ]
  },
  {
   "cell_type": "markdown",
   "metadata": {},
   "source": [
    "### Resource Type"
   ]
  },
  {
   "cell_type": "code",
   "execution_count": 7,
   "metadata": {},
   "outputs": [],
   "source": [
    "def create_resourceType(output):\n",
    "    resourceType = ET.Element(\"resourceType\")\n",
    "    resourceType.attrib = {\"resourceTypeGeneral\":\"Text\"}\n",
    "    # resourceType.text = \" \"\n",
    "\n",
    "    output.append(resourceType)"
   ]
  },
  {
   "cell_type": "markdown",
   "metadata": {},
   "source": [
    "### Formats"
   ]
  },
  {
   "cell_type": "code",
   "execution_count": 8,
   "metadata": {},
   "outputs": [],
   "source": [
    "def create_formats(output):\n",
    "    formats = ET.Element(\"formats\")\n",
    "    formatDC = ET.SubElement(formats, \"format\")\n",
    "    formatDC.text = \"PDF\"\n",
    "\n",
    "    output.append(formats)"
   ]
  },
  {
   "cell_type": "markdown",
   "metadata": {},
   "source": [
    "### Rights"
   ]
  },
  {
   "cell_type": "code",
   "execution_count": 9,
   "metadata": {},
   "outputs": [],
   "source": [
    "def create_rights(output):\n",
    "    rightsList = ET.Element(\"rightsList\")\n",
    "    rights = ET.SubElement(rightsList, \"rights\")\n",
    "    rights.attrib = {\n",
    "        \"rightsIdentifier\":\"CC BY 4.0\",\n",
    "        \"rightsURI\":\"https://creativecommons.org/licenses/by/4.0/legalcode\"\n",
    "        }\n",
    "    # rights.text = \" \"\n",
    "\n",
    "    output.append(rightsList)"
   ]
  },
  {
   "cell_type": "markdown",
   "metadata": {},
   "source": [
    "## Descriptions"
   ]
  },
  {
   "cell_type": "code",
   "execution_count": 10,
   "metadata": {},
   "outputs": [],
   "source": [
    "def create_descriptions(output):\n",
    "    descriptions = ET.Element(\"descriptions\")\n",
    "\n",
    "    # ------------- Abstract\n",
    "    abstractMRC = record.findall(\".//datafield[@tag='520']\")\n",
    "\n",
    "    for item in abstractMRC:\n",
    "        description = ET.SubElement(descriptions, \"description\")\n",
    "        description.attrib = {\"descriptionType\":\"Abstract\"}\n",
    "        # cut \"eng: \" or \"ger: \" from abstract text\n",
    "        oldText = item.find(\"subfield[@code='a']\").text\n",
    "        toCut = re.search(\"^eng: |^ger: \", oldText).group()\n",
    "        abstractText = oldText.replace(toCut, \"\")\n",
    "        description.text = abstractText\n",
    "\n",
    "    # ------------- Series Information\n",
    "    description = ET.SubElement(descriptions, \"description\")\n",
    "    description.attrib = {\"descriptionType\":\"SeriesInformation\"}\n",
    "\n",
    "    check_for_490 = record.find(\".//datafield[@tag='490']\")\n",
    "    # field 490 is not present - .find() returns None\n",
    "\n",
    "    if check_for_490 is None:\n",
    "        seriesInformationMRC = record.find(\".//datafield[@tag='773']\")\n",
    "        description.text = str(\n",
    "            seriesInformationMRC.find(\"subfield[@code='t']\").text + \n",
    "            \", \" + \n",
    "            seriesInformationMRC.find(\"subfield[@code='g']\").text\n",
    "            )\n",
    "    else:\n",
    "        seriesInformationMRC = record.find(\".//datafield[@tag='490']\")\n",
    "        description.text = str(\n",
    "            seriesInformationMRC.find(\"subfield[@code='a']\").text + \n",
    "            \", \" + \n",
    "            seriesInformationMRC.find(\"subfield[@code='v']\").text\n",
    "            )\n",
    "\n",
    "    output.append(descriptions)"
   ]
  },
  {
   "cell_type": "markdown",
   "metadata": {},
   "source": [
    "## Size"
   ]
  },
  {
   "cell_type": "code",
   "execution_count": 11,
   "metadata": {},
   "outputs": [],
   "source": [
    "def create_size(output):\n",
    "    sizeMRC = record.find(\".//datafield[@tag='300']\")\n",
    "    sizes = ET.Element(\"sizes\")\n",
    "    size = ET.SubElement(sizes, \"size\")\n",
    "    if re.search(\"(?<=\\()\\d+\", sizeMRC.find(\"subfield[@code='a']\").text) is None:\n",
    "        size.text = record.find(\".//datafield[@tag='300']\").find(\"subfield[@code='a']\").text\n",
    "    else:\n",
    "        pageNr = re.search(\"(?<=\\()\\d+\", sizeMRC.find(\"subfield[@code='a']\").text).group() # match 1-n digits after ()\n",
    "        size.text = str(pageNr + \" pages\")\n",
    "\n",
    "    output.append(sizes)"
   ]
  },
  {
   "cell_type": "markdown",
   "metadata": {},
   "source": [
    "## Funding Reference"
   ]
  },
  {
   "cell_type": "code",
   "execution_count": 12,
   "metadata": {},
   "outputs": [],
   "source": [
    "def create_fundingReference(output):\n",
    "    fundingMRC = record.findall(\".//datafield[@tag='536']\")\n",
    "    fundingReferences = ET.Element(\"fundingReferences\")\n",
    "\n",
    "    for item in fundingMRC:\n",
    "        fundingReference = ET.SubElement(fundingReferences, \"fundingReference\")\n",
    "        funderName = ET.SubElement(fundingReference, \"funderName\")\n",
    "        funderIdentifier = ET.SubElement(fundingReference, \"funderIdentifier\")\n",
    "        funderIdentifier.attrib = {\"funderIdentifierType\":\"Crossref Funder ID\"}\n",
    "        awardNumber = ET.SubElement(fundingReference, \"awardNumber\")\n",
    "        awardNumber.text = item.find((\"subfield[@code='f']\")).text\n",
    "        \n",
    "        if item.find((\"subfield[@code='a']\")).text == \"Fonds zur Förderung der Wissenschaftlichen Forschung\":\n",
    "            funderName.text = \"Austrian Science Fund\"\n",
    "            funderIdentifier.text = \"https://doi.org/10.13039/501100002428\"\n",
    "        elif item.find((\"subfield[@code='a']\")).text == \"Österreichische Forschungsförderungsgesellschaft\":\n",
    "            funderName.text = \"Österreichische Forschungsförderungsgesellschaft\"\n",
    "            funderIdentifier.text = \"https://doi.org/10.13039/501100004955\"\n",
    "        elif  item.find((\"subfield[@code='a']\")).text == \"Europäische Kommission\":\n",
    "            funderName.text = \"European Commission\"\n",
    "            funderIdentifier.text = \"https://doi.org/10.13039/501100000780\"\n",
    "\n",
    "    output.append(fundingReferences)"
   ]
  },
  {
   "cell_type": "markdown",
   "metadata": {},
   "source": [
    "# Create DCxml"
   ]
  },
  {
   "cell_type": "code",
   "execution_count": 13,
   "metadata": {},
   "outputs": [],
   "source": [
    "def create_DCxml(record):\n",
    "    # create output root\n",
    "    output = ET.Element(\"resource\")\n",
    "    output.attrib = {\n",
    "        \"xmlns:xsi\":\"http://www.w3.org/2001/XMLSchema-instance\",\n",
    "        \"xsi:schemaLocation\": \"http://datacite.org/schema/kernel-4 https://schema.datacite.org/meta/kernel-4.4/metadata.xsd\"\n",
    "        }\n",
    "\n",
    "    # Dictionary to map functions to Alma Datafield\n",
    "    tagsDict = {\n",
    "        \"024\":create_identifier(output),\n",
    "        \"041\":create_language(output),\n",
    "        \"100\":create_creator(output),\n",
    "        \"245\":create_title(output),\n",
    "        \"264\":create_publisher(output),\n",
    "        \"300\":create_size(output),\n",
    "        \"520\":create_descriptions(output),\n",
    "        \"536\":create_fundingReference(output)\n",
    "        }\n",
    "    # if datafield is in Alma xml - run function\n",
    "    for key in tagsDict:\n",
    "        if record.find(\".//datafield[@tag='{}']\".format(key)) != None:\n",
    "            tagsDict[key]\n",
    "\n",
    "    # Functions with set values (Fields that are created with hard-coded value)\n",
    "    create_formats(output)\n",
    "    create_resourceType(output)\n",
    "    create_rights(output)\n",
    "\n",
    "    return output"
   ]
  },
  {
   "cell_type": "markdown",
   "metadata": {},
   "source": [
    "# Main"
   ]
  },
  {
   "cell_type": "code",
   "execution_count": 25,
   "metadata": {},
   "outputs": [],
   "source": [
    "# Load Alma xml\n",
    "tree = ET.parse(\"exportExample_combined.xml\")\n",
    "collection = tree.getroot() # rename root in collection (export starts with collection)\n",
    "\n",
    "for record in collection:\n",
    "    output = create_DCxml(record)\n",
    "    # create tree ---------------------------------------------------\n",
    "    outputTree = ET.ElementTree(output)\n",
    "    # -------------------------------------------------------------\n",
    "    # write output--------------------------------------------------------------\n",
    "    acNr = record.find(\".//controlfield[@tag='009']\").text\n",
    "    outputTree.write(\"{}_{}.xml\".format(\"output\", acNr))"
   ]
  },
  {
   "cell_type": "markdown",
   "metadata": {},
   "source": [
    "# ToDo\n",
    "\n",
    "* Docker"
   ]
  }
 ],
 "metadata": {
  "kernelspec": {
   "display_name": "Python 3.8.6 64-bit",
   "language": "python",
   "name": "python3"
  },
  "language_info": {
   "codemirror_mode": {
    "name": "ipython",
    "version": 3
   },
   "file_extension": ".py",
   "mimetype": "text/x-python",
   "name": "python",
   "nbconvert_exporter": "python",
   "pygments_lexer": "ipython3",
   "version": "3.8.6"
  },
  "orig_nbformat": 4,
  "vscode": {
   "interpreter": {
    "hash": "570feb405e2e27c949193ac68f46852414290d515b0ba6e5d90d076ed2284471"
   }
  }
 },
 "nbformat": 4,
 "nbformat_minor": 2
}
