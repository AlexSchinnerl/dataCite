{
 "cells": [
  {
   "cell_type": "code",
   "execution_count": 44,
   "metadata": {},
   "outputs": [],
   "source": [
    "import xml.etree.ElementTree as ET"
   ]
  },
  {
   "cell_type": "markdown",
   "metadata": {},
   "source": [
    "## MARC XML\n",
    "Ziel: finde Entsprechungen des MARC mit dem DataCite Schema und speichere in Variable.\n",
    "\n",
    "Damit bei Erstellen der neuen xml mit \"varable\".find das Subfeld und der Text zugewiesen werden können\n",
    "\n",
    "zum Bleistift:\n",
    "* dataCite xml: creator = MARC datafield tag = 100\n",
    "* als Variable \"author\" speichern\n",
    "* beim xml erstellen kann auf Subfield Code \"a\" zugegriffen werden"
   ]
  },
  {
   "cell_type": "code",
   "execution_count": 45,
   "metadata": {},
   "outputs": [],
   "source": [
    "# load Marc xml\n",
    "tree = ET.parse(\"bibliographicData.xml\")\n",
    "collection = tree.getroot() # rename root in collection (export starts with collection)"
   ]
  },
  {
   "cell_type": "code",
   "execution_count": 114,
   "metadata": {},
   "outputs": [
    {
     "data": {
      "text/plain": [
       "'ger'"
      ]
     },
     "execution_count": 114,
     "metadata": {},
     "output_type": "execute_result"
    }
   ],
   "source": [
    "records = collection[0] # first record in collection\n",
    "authorMRC = records.find(\".//datafield[@tag='100']\") # find field 100\n",
    "authorMRC.find(\"subfield[@code='a']\").text # find subfield \"a\" and get text\n",
    "authorMRC.find(\"subfield[@code='a']\").text.split(\",\") # split family/given Name\n",
    "        # subfield a = creatorName\n",
    "        # subfield a - split \",\" split[0] = familyName split[1] = givenName\n",
    "        # subfield??? = nameIdentifier -- z.B. ORCID\n",
    "        # subfield??? = affiliation\n",
    "\n",
    "\n",
    "titleMRC = records.find(\".//datafield[@tag='245']\")\n",
    "titleMRC.find(\"subfield[@code='a']\").text\n",
    "titleMRC.find(\"subfield[@code='b']\").text\n",
    "\n",
    "publisherMRC = records.find(\".//datafield[@tag='264']\")\n",
    "publisherMRC.find(\"subfield[@code='b']\").text\n",
    "publisherMRC.find(\"subfield[@code='c']\").text\n",
    "\n",
    "languageMRC = records.find(\".//datafield[@tag='041']\")\n",
    "languageMRC.find(\"subfield[@code='a']\").text"
   ]
  },
  {
   "cell_type": "code",
   "execution_count": 118,
   "metadata": {},
   "outputs": [
    {
     "data": {
      "text/plain": [
       "[<Element 'datafield' at 0x000001587C7E3E20>,\n",
       " <Element 'datafield' at 0x000001587C7E3F10>,\n",
       " <Element 'datafield' at 0x000001587C7E2930>,\n",
       " <Element 'datafield' at 0x000001587C7E3D30>,\n",
       " <Element 'datafield' at 0x000001587C7E3290>,\n",
       " <Element 'datafield' at 0x000001587C7E12B0>,\n",
       " <Element 'datafield' at 0x000001587C7E1850>,\n",
       " <Element 'datafield' at 0x000001587C7E1990>,\n",
       " <Element 'datafield' at 0x000001587C7E1A80>,\n",
       " <Element 'datafield' at 0x000001587C7E1B20>]"
      ]
     },
     "execution_count": 118,
     "metadata": {},
     "output_type": "execute_result"
    }
   ],
   "source": [
    "# NB! Für Wiederholende Felder muss .findall gewählt werden\n",
    "records.findall(\".//datafield[@tag='653']\")"
   ]
  },
  {
   "cell_type": "markdown",
   "metadata": {},
   "source": [
    "## DataCite xml\n",
    "Idee:\n",
    "\n",
    "Mach mir ein komplettes DataCite xml\n",
    "\n",
    "such mir den Text aus den records"
   ]
  },
  {
   "cell_type": "code",
   "execution_count": 116,
   "metadata": {},
   "outputs": [],
   "source": [
    "dcOutput = ET.Element(\"resource\")\n",
    "dcOutput.attrib = {\n",
    "    \"xmlns:xsi\":\"http://www.w3.org/2001/XMLSchema-instance\",\n",
    "    \"xsi:schemaLocation\": \"http://datacite.org/schema/kernel-4 https://schema.datacite.org/meta/kernel-4.4/metadata.xsd\"\n",
    "    }\n",
    "\n",
    "# Identifier -------------------------------------------------------------\n",
    "\n",
    "identifier = ET.Element(\"identifier\")\n",
    "identifier.attrib = {\"identifierType\":\"DOI\"}\n",
    "identifier.text = \" \"\n",
    "dcOutput.append(identifier)\n",
    "\n",
    "# Creators -------------------------------------------------------------\n",
    "creators = ET.Element(\"creators\")\n",
    "creator = ET.SubElement(creators, \"creator\")\n",
    "creatorName = ET.SubElement(creator, \"creatorName\")\n",
    "creatorName.attrib = {\"nameType\":\"Personal\"}\n",
    "creatorName.text = authorMRC.find(\"subfield[@code='a']\").text\n",
    "\n",
    "givenName = ET.SubElement(creator, \"givenName\")\n",
    "givenName.text = authorMRC.find(\"subfield[@code='a']\").text.split(\",\")[1]\n",
    "\n",
    "familyName = ET.SubElement(creator, \"familyName\")\n",
    "familyName.text = authorMRC.find(\"subfield[@code='a']\").text.split(\",\")[0]\n",
    "\n",
    "nameIdentifier = ET.SubElement(creator, \"nameIdentifier\")\n",
    "nameIdentifier.attrib = {\n",
    "    \"schemeURI\":\"https://orcid.org/\",\n",
    "    \"nameIdentifierScheme\":\"ORCID\"\n",
    "    }\n",
    "nameIdentifier.text = \" \"\n",
    "\n",
    "affiliation = ET.SubElement(creator, \"affiliation\")\n",
    "affiliation.text = \" \"\n",
    "\n",
    "dcOutput.append(creators)\n",
    "\n",
    "# Titles -------------------------------------------------------------\n",
    "titles = ET.Element(\"titles\")\n",
    "title = ET.SubElement(titles, \"title\")\n",
    "title.attrib = {\n",
    "    \"xml:lang\":\"en-US\"\n",
    "    }\n",
    "title.text = titleMRC.find(\"subfield[@code='a']\").text\n",
    "subtitle = ET.SubElement(titles, \"title\")\n",
    "subtitle.attrib = {\n",
    "    \"xml:lang\":\"en-US\",\n",
    "    \"titleType\":\"Subtitle\"\n",
    "    }\n",
    "subtitle.text = titleMRC.find(\"subfield[@code='b']\").text\n",
    "\n",
    "dcOutput.append(titles)\n",
    "\n",
    "# publisher -------------------------------------------------------------\n",
    "publisher = ET.Element(\"publisher\")\n",
    "publisher.attrib = {\"xml:lang\":\"en\"}\n",
    "publisher.text = publisherMRC.find(\"subfield[@code='b']\").text\n",
    "dcOutput.append(publisher)\n",
    "\n",
    "# publication Year -------------------------------------------------------------\n",
    "publicationYear = ET.Element(\"publicationYear\")\n",
    "publicationYear.text = publisherMRC.find(\"subfield[@code='c']\").text\n",
    "dcOutput.append(publicationYear)\n",
    "\n",
    "# Language -------------------------------------------------------------\n",
    "language = ET.Element(\"language\")\n",
    "language.text = languageMRC.find(\"subfield[@code='a']\").text\n",
    "dcOutput.append(language)\n",
    "\n",
    "# create Tree\n",
    "dcTree = ET.ElementTree(dcOutput)\n",
    "# write output-\n",
    "dcTree.write(\"dcTest.xml\")"
   ]
  },
  {
   "cell_type": "code",
   "execution_count": 95,
   "metadata": {},
   "outputs": [],
   "source": [
    "# dcTree = ET.ElementTree(dcOutput)\n",
    "# dcTree.write(\"dcTest.xml\")"
   ]
  },
  {
   "cell_type": "code",
   "execution_count": 51,
   "metadata": {},
   "outputs": [],
   "source": [
    "# Download xml (Full DataCite XML example) from: https://schema.datacite.org/meta/kernel-4.4\n",
    "# https://schema.datacite.org/meta/kernel-4.4/example/datacite-example-full-v4.xml\n",
    "# xmlns=\"http://datacite.org/schema/kernel-4\" Attribut entfernen\n",
    "\n",
    "dataCiteTree = ET.parse(\"dataciteExample.xml\")\n",
    "dataCite = dataCiteTree.getroot()"
   ]
  },
  {
   "cell_type": "code",
   "execution_count": 55,
   "metadata": {},
   "outputs": [
    {
     "name": "stdout",
     "output_type": "stream",
     "text": [
      "identifier\n",
      "creators\n",
      "titles\n",
      "publisher\n",
      "publicationYear\n",
      "subjects\n",
      "contributors\n",
      "dates\n",
      "language\n",
      "resourceType\n",
      "alternateIdentifiers\n",
      "relatedIdentifiers\n",
      "sizes\n",
      "formats\n",
      "version\n",
      "rightsList\n",
      "descriptions\n",
      "geoLocations\n",
      "fundingReferences\n",
      "relatedItems\n"
     ]
    },
    {
     "data": {
      "text/plain": [
       "['identifier',\n",
       " 'creators',\n",
       " 'titles',\n",
       " 'publisher',\n",
       " 'publicationYear',\n",
       " 'subjects',\n",
       " 'contributors',\n",
       " 'dates',\n",
       " 'language',\n",
       " 'resourceType',\n",
       " 'alternateIdentifiers',\n",
       " 'relatedIdentifiers',\n",
       " 'sizes',\n",
       " 'formats',\n",
       " 'version',\n",
       " 'rightsList',\n",
       " 'descriptions',\n",
       " 'geoLocations',\n",
       " 'fundingReferences',\n",
       " 'relatedItems']"
      ]
     },
     "execution_count": 55,
     "metadata": {},
     "output_type": "execute_result"
    }
   ],
   "source": [
    "fieldlist = []\n",
    "for field in dataCite:\n",
    "    fieldlist.append(field.tag)\n",
    "    print(field.tag)\n",
    "fieldlist"
   ]
  },
  {
   "cell_type": "code",
   "execution_count": 56,
   "metadata": {},
   "outputs": [
    {
     "data": {
      "text/plain": [
       "'creators'"
      ]
     },
     "execution_count": 56,
     "metadata": {},
     "output_type": "execute_result"
    }
   ],
   "source": [
    "dataCite.find(\"creators\").tag"
   ]
  }
 ],
 "metadata": {
  "kernelspec": {
   "display_name": "Python 3.10.4 64-bit",
   "language": "python",
   "name": "python3"
  },
  "language_info": {
   "codemirror_mode": {
    "name": "ipython",
    "version": 3
   },
   "file_extension": ".py",
   "mimetype": "text/x-python",
   "name": "python",
   "nbconvert_exporter": "python",
   "pygments_lexer": "ipython3",
   "version": "3.10.4"
  },
  "orig_nbformat": 4,
  "vscode": {
   "interpreter": {
    "hash": "7509cc397b0cf4339de54e1283964d8fa6c04fb0ef5949930cb877e25b983a4b"
   }
  }
 },
 "nbformat": 4,
 "nbformat_minor": 2
}
